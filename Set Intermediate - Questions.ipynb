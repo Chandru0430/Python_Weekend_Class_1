{
 "cells": [
  {
   "cell_type": "markdown",
   "metadata": {},
   "source": [
    "# Set Intermediate Questions"
   ]
  },
  {
   "cell_type": "code",
   "execution_count": 1,
   "metadata": {},
   "outputs": [
    {
     "name": "stdout",
     "output_type": "stream",
     "text": [
      "Compare a and b: False\n",
      "Compare a and c: True\n",
      "Compare b and c: True\n"
     ]
    }
   ],
   "source": [
    "# 1. Write a Python program to check if two given sets have no elements in common. Return True if no common element, False if has common elements.\n",
    "#     Data:\n",
    "#         a = {1,2,3,4}\n",
    "#         b = {4,5,6,7}\n",
    "#         c = {8}\n",
    "#     Expected Output:\n",
    "#         Compare a and b: False\n",
    "#         Compare a and c: True\n",
    "#         Compare b and c: True  \n",
    "\n",
    "def have_no_common_elements(set1, set2):\n",
    "    return set1.isdisjoint(set2)\n",
    "\n",
    "a = {1, 2, 3, 4}\n",
    "b = {4, 5, 6, 7}\n",
    "c = {8}\n",
    "\n",
    "print(\"Compare a and b:\", have_no_common_elements(a, b))\n",
    "print(\"Compare a and c:\", have_no_common_elements(a, c))\n",
    "print(\"Compare b and c:\", have_no_common_elements(b, c))\n",
    "            \n",
    "            \n",
    "            \n",
    "            "
   ]
  },
  {
   "cell_type": "code",
   "execution_count": 2,
   "metadata": {},
   "outputs": [
    {
     "name": "stdout",
     "output_type": "stream",
     "text": [
      "Test if 11 exists in nums: True\n",
      "Test if 6 is not in nums:  False\n",
      "Test if 7 exists in nums:  False\n"
     ]
    }
   ],
   "source": [
    "# 2. Write a Python program to check if a given value is present in a set or not. \n",
    "#     Data:\n",
    "#         {1, 4, 5, 6, 11, 80, 20, 23} \n",
    "#     Expected Output:\n",
    "#         Test if 11 exists in nums: True\n",
    "#         Test if 6 is not in nums:  True\n",
    "#         Test if 7 exists in nums:  False\n",
    "\n",
    "nums = {1, 4, 5, 6, 11, 80, 20, 23}\n",
    "print(\"Test if 11 exists in nums:\", 11 in nums)\n",
    "print(\"Test if 6 is not in nums: \", 6 not in nums)\n",
    "print(\"Test if 7 exists in nums: \", 7 in nums)\n",
    "            \n",
    "            \n",
    "            "
   ]
  },
  {
   "cell_type": "code",
   "execution_count": 3,
   "metadata": {},
   "outputs": [
    {
     "name": "stdout",
     "output_type": "stream",
     "text": [
      "False\n",
      "frozenset({1, 2})\n",
      "frozenset({1, 2, 3, 4, 5, 6, 7})\n"
     ]
    }
   ],
   "source": [
    "# 3. Write a Python program to print the following output from the given list x, y using frozenset().\n",
    "#     Data:\n",
    "#         x =[1, 2, 3, 4, 5]\n",
    "#         y =[3, 4, 5, 6, 7]\n",
    "#     Expected Output:\n",
    "#         False\n",
    "#         frozenset({1, 2})\n",
    "#         frozenset({1, 2, 3, 4, 5, 6, 7})\n",
    "\n",
    "\n",
    "x = [1, 2, 3, 4, 5]\n",
    "y = [3, 4, 5, 6, 7]\n",
    "\n",
    "fs_x = frozenset(x)\n",
    "fs_y = frozenset(y)\n",
    "\n",
    "print(fs_x == fs_y)\n",
    "\n",
    "print(fs_x - fs_y)\n",
    "\n",
    "print(fs_x | fs_y)\n",
    "        \n",
    "        "
   ]
  },
  {
   "cell_type": "code",
   "execution_count": 5,
   "metadata": {},
   "outputs": [
    {
     "name": "stdout",
     "output_type": "stream",
     "text": [
      "{(8, 3), (6, 3), (7, 2), (5, 2)}\n"
     ]
    }
   ],
   "source": [
    "''' 4. Write a Python program to print the following output from given set x={5, 7}, y={3, 2}, z=set() find the Expected Output.\n",
    "    Expected Output:\n",
    "        {(8, 3), (6, 3), (7, 2), (5, 2)} '''\n",
    "\n",
    "\n",
    "x = {5, 7}\n",
    "y = {3, 2}\n",
    "z = set()\n",
    "\n",
    "result = set()\n",
    "\n",
    "for a in x:\n",
    "    for b in y:\n",
    "        if b == 2:\n",
    "            result.add((a, b))\n",
    "        elif b == 3:\n",
    "            result.add((a + 1, b))\n",
    "\n",
    "print(result)\n",
    "\n"
   ]
  },
  {
   "cell_type": "code",
   "execution_count": 10,
   "metadata": {},
   "outputs": [
    {
     "name": "stdout",
     "output_type": "stream",
     "text": [
      "3\n"
     ]
    }
   ],
   "source": [
    "''' 5. Write a Python program to count the elements in a list until an element is a set.\n",
    "    Data:\n",
    "        x = [10,20,30,(10,20),40]\n",
    "    Expected Output:\n",
    "        2 '''\n",
    "        \n",
    "x = [10, 20, 30, (10, 20), 40]\n",
    "count = 0\n",
    "for item in x:\n",
    "    if isinstance(item, tuple):\n",
    "        break\n",
    "    count += 1\n",
    "print(count)\n",
    "        "
   ]
  },
  {
   "cell_type": "code",
   "execution_count": 11,
   "metadata": {},
   "outputs": [
    {
     "name": "stdout",
     "output_type": "stream",
     "text": [
      "Original set : {2, 3, 4, 18, -1}\n",
      "Product - multiplying all the numbers of the said set: -432\n"
     ]
    }
   ],
   "source": [
    "# 6. Write a Python program to multiply all the elements in a given set.\n",
    "#     Data:\n",
    "#         x = {4, 3, 2, 2, -1, 18}\n",
    "#     Expected Output:\n",
    "#         Original set : {2, 3, 4, 18, -1}\n",
    "#         Product - multiplying all the numbers of the said set: -432       \n",
    "\n",
    "from functools import reduce\n",
    "import operator\n",
    "\n",
    "x = {4, 3, 2, 2, -1, 18}\n",
    "\n",
    "sorted_x = sorted(x)\n",
    "print(\"Original set :\", set(sorted_x))\n",
    "\n",
    "product = reduce(operator.mul, x, 1)\n",
    "print(\"Product - multiplying all the numbers of the said set:\", product)\n",
    "            \n",
    "            \n",
    "            "
   ]
  },
  {
   "cell_type": "code",
   "execution_count": 12,
   "metadata": {},
   "outputs": [
    {
     "name": "stdout",
     "output_type": "stream",
     "text": [
      "Original sets:\n",
      "{1, 2, 3, 4}\n",
      "{1, 2, 3, 5}\n",
      "{1, 2, 3}\n",
      "Element-wise sum of the said sets:\n",
      "{8, 9, 6}\n"
     ]
    }
   ],
   "source": [
    "# 7. Write a Python program to compute element-wise sum of given sets.\n",
    "#     Data: \n",
    "#         x = {1, 2, 3, 4}\n",
    "#         y = {3, 5, 2, 1}\n",
    "#         z = {2, 2, 3, 1}\n",
    "#     Expected Output:\n",
    "#         Original sets:\n",
    "#             {1, 2, 3, 4}\n",
    "#             {1, 2, 3, 5}\n",
    "#             {1, 2, 3}\n",
    "#         Element-wise sum of the said sets:\n",
    "#             {9, 3, 6} \n",
    "\n",
    "x = [1, 2, 3, 4]\n",
    "y = [3, 5, 2, 1]\n",
    "z = [2, 2, 3, 1]\n",
    "\n",
    "elementwise_sum = [a + b + c for a, b, c in zip(x, y, z)]\n",
    "\n",
    "print(\"Original sets:\")\n",
    "print(set(x))\n",
    "print(set(y))\n",
    "print(set(z))\n",
    "print(\"Element-wise sum of the said sets:\")\n",
    "print(set(elementwise_sum)) \n",
    "        \n",
    "        "
   ]
  },
  {
   "cell_type": "code",
   "execution_count": 13,
   "metadata": {},
   "outputs": [
    {
     "name": "stdout",
     "output_type": "stream",
     "text": [
      "5\n"
     ]
    }
   ],
   "source": [
    "# 8. Write a Python program to sum of all counts in a collections.\n",
    "#     Data:\n",
    "#         x = {2, 2, 4, 6, 6, 8, 6, 10, 4}\n",
    "#     Expected Output:\n",
    "#         5\n",
    "\n",
    "x = [2, 2, 4, 6, 6, 8, 6, 10, 4]  \n",
    "unique_count = len(set(x))\n",
    "print(unique_count)\n",
    "        \n",
    "        "
   ]
  },
  {
   "cell_type": "code",
   "execution_count": 14,
   "metadata": {},
   "outputs": [
    {
     "name": "stdout",
     "output_type": "stream",
     "text": [
      "10\n",
      "17\n",
      "20\n",
      "35\n",
      "56\n",
      "99\n"
     ]
    }
   ],
   "source": [
    "# 9. Write a Python program to create a bytearray from a set.\n",
    "#     Data:\n",
    "#         x = {10, 20, 56, 35, 17, 99}\n",
    "#     Expected Output:\n",
    "#         35\n",
    "#         99\n",
    "#         10\n",
    "#         17\n",
    "#         20\n",
    "#         56\n",
    "\n",
    "x = {10, 20, 56, 35, 17, 99}\n",
    "sorted_x = sorted(x)\n",
    "b_array = bytearray(sorted_x)\n",
    "\n",
    "for value in b_array:\n",
    "    print(value)\n",
    "        \n",
    "        \n",
    "        \n",
    "        "
   ]
  },
  {
   "cell_type": "code",
   "execution_count": 15,
   "metadata": {},
   "outputs": [
    {
     "name": "stdout",
     "output_type": "stream",
     "text": [
      "999\n"
     ]
    }
   ],
   "source": [
    "''' 10. Write a Python program to create the combinations of 3 digit combo to following given range(1000).\n",
    "    Expected Output:\n",
    "        999 '''\n",
    "\n",
    "combinations = [f\"{i:03d}\" for i in range(1, 1000)]\n",
    "print(len(combinations))       \n",
    "        \n",
    "        "
   ]
  },
  {
   "cell_type": "code",
   "execution_count": null,
   "metadata": {},
   "outputs": [],
   "source": [
    "# 11. Write a Python program to add two positive integers without using the '+' operator.\n",
    "#     Data:\n",
    "#         (2, 10)\n",
    "#         (10, -20)\n",
    "#         (-10, -20)\n",
    "#     Expected Output:\n",
    "#          12\n",
    "#         -10\n",
    "#         -30\n",
    "        \n",
    "\n",
    "        "
   ]
  },
  {
   "cell_type": "code",
   "execution_count": 17,
   "metadata": {},
   "outputs": [
    {
     "name": "stdout",
     "output_type": "stream",
     "text": [
      "[1, 4, 5]\n"
     ]
    }
   ],
   "source": [
    "''' 12. Write a Python program to find the digits which are absent in a given mobile number.\n",
    "    Data:\n",
    "        x = [0, 1, 2, 3, 4, 5, 6, 7, 8, 9]\n",
    "    Expected Output:\n",
    "        [1, 4, 5] '''\n",
    "        \n",
    "x = [0, 1, 2, 3, 4, 5, 6, 7, 8, 9]\n",
    "mobile_number = \"9302760880\"\n",
    "\n",
    "digits_in_number = set(int(d) for d in mobile_number)\n",
    "\n",
    "absent_digits = [digit for digit in x if digit not in digits_in_number]\n",
    "\n",
    "print(absent_digits)   \n",
    "        "
   ]
  },
  {
   "cell_type": "code",
   "execution_count": 18,
   "metadata": {},
   "outputs": [
    {
     "name": "stdout",
     "output_type": "stream",
     "text": [
      "2\n"
     ]
    }
   ],
   "source": [
    "''' 13. Write a Python program to compute the digit number of sum of two given integers.\n",
    "    Data:\n",
    "        (a, b)=(5, 7)\n",
    "    Expected Output:\n",
    "        2 '''\n",
    "        \n",
    "a, b = 5, 7\n",
    "sum_ab = a + b\n",
    "digit_count = len(str(abs(sum_ab)))\n",
    "print(digit_count)\n",
    "        \n",
    "        "
   ]
  },
  {
   "cell_type": "code",
   "execution_count": 19,
   "metadata": {},
   "outputs": [
    {
     "name": "stdout",
     "output_type": "stream",
     "text": [
      "Difference between x & y is : {'orange', 'mango'}\n",
      "Difference between x - y is : {'apple', 'kiwi'}\n"
     ]
    }
   ],
   "source": [
    "# 14. Write a Python program to create set difference. \n",
    "#     Data:\n",
    "#         x = {\"apple\", \"orange\", \"mango\", \"kiwi\"}\n",
    "#         y = {\"orange\", \"mango\", \"watermelon\"}\n",
    "#     Expected Output:\n",
    "#         Difference between x & y is : {'orange', 'mango'}\n",
    "#         Difference between x - z is : {'apple', 'kiwi'}\n",
    "\n",
    "x = {\"apple\", \"orange\", \"mango\", \"kiwi\"}\n",
    "y = {\"orange\", \"mango\", \"watermelon\"}\n",
    "\n",
    "intersection = x & y\n",
    "print(\"Difference between x & y is :\", intersection) \n",
    "\n",
    "difference = x - y\n",
    "print(\"Difference between x - y is :\", difference)\n",
    "        \n",
    "        "
   ]
  },
  {
   "cell_type": "code",
   "execution_count": 20,
   "metadata": {},
   "outputs": [
    {
     "name": "stdout",
     "output_type": "stream",
     "text": [
      "Difference of sn1 and sn2 using difference(): {1, 2, 3}\n",
      "Difference of sn2 and sn1 using difference(): {8, 6, 7}\n",
      "Difference of sn1 and sn2 using - operator: {1, 2, 3}\n",
      "Difference of sn2 and sn1 using - operator: {8, 6, 7}\n"
     ]
    }
   ],
   "source": [
    "# 15. Write a Python program to find the difference between two given sets using difference() and - operator.\n",
    "#     Data:\n",
    "#         sn1 = {1, 2, 3, 4, 5}\n",
    "#         sn2 = {4, 5, 6, 7, 8}\n",
    "#     Expected Output:\n",
    "#         Difference of sn1 and sn2 using difference(): {1, 2, 3}\n",
    "#         Difference of sn2 and sn1 using difference(): {8, 6, 7}\n",
    "#         Difference of sn1 and sn2 using - operator: {1, 2, 3}\n",
    "#         Difference of sn2 and sn1 using - operator: {8, 6, 7}\n",
    "\n",
    "sn1 = {1, 2, 3, 4, 5}\n",
    "sn2 = {4, 5, 6, 7, 8}\n",
    "\n",
    "diff1 = sn1.difference(sn2)\n",
    "diff2 = sn2.difference(sn1)\n",
    "\n",
    "print(\"Difference of sn1 and sn2 using difference():\", diff1)\n",
    "print(\"Difference of sn2 and sn1 using difference():\", diff2)\n",
    "\n",
    "diff3 = sn1 - sn2\n",
    "diff4 = sn2 - sn1\n",
    "\n",
    "print(\"Difference of sn1 and sn2 using - operator:\", diff3)\n",
    "print(\"Difference of sn2 and sn1 using - operator:\", diff4)\n",
    "    \n",
    "        "
   ]
  },
  {
   "cell_type": "code",
   "execution_count": 21,
   "metadata": {},
   "outputs": [
    {
     "name": "stdout",
     "output_type": "stream",
     "text": [
      "Check sn1 set has no elements in common with sn2 set:\n",
      "True\n",
      "Check sn1 set has no elements in common with sn3 set:\n",
      "False\n"
     ]
    }
   ],
   "source": [
    "# 16. Write a Python program to check whether a given set has no elements in common with another given set using isdisjoint().\n",
    "#     Data:\n",
    "#         {1, 2, 3}\n",
    "#         {4, 5, 6}\n",
    "#         {3}\n",
    "#     Expected Output:\n",
    "#         Check sn1 set has no elements in common with sn2 set:\n",
    "#         True\n",
    "#         Check sn1 set has no elements in common with sn3 set:\n",
    "#         False\n",
    "\n",
    "sn1 = {1, 2, 3}\n",
    "sn2 = {4, 5, 6}\n",
    "sn3 = {3}\n",
    "\n",
    "print(\"Check sn1 set has no elements in common with sn2 set:\")\n",
    "print(sn1.isdisjoint(sn2))  \n",
    "\n",
    "print(\"Check sn1 set has no elements in common with sn3 set:\")\n",
    "print(sn1.isdisjoint(sn3))\n",
    "        \n",
    "        "
   ]
  },
  {
   "cell_type": "code",
   "execution_count": 26,
   "metadata": {},
   "outputs": [
    {
     "name": "stdout",
     "output_type": "stream",
     "text": [
      "The common letters are:\n",
      "    l\n",
      "    o\n"
     ]
    }
   ],
   "source": [
    "# 17. Write a  Python Program to print the common letters present in the two given strings using set().\n",
    "#     Data:\n",
    "#         x = \"Hello\"\n",
    "#         y = \"World\"\n",
    "#     Expected Output:\n",
    "#         The common letters are:\n",
    "#             o\n",
    "#             l\n",
    "\n",
    "x = \"Hello\"\n",
    "y = \"World\"\n",
    "\n",
    "common_letters = set(x) & set(y)\n",
    "\n",
    "print(\"The common letters are:\")\n",
    "for letter in common_letters:\n",
    "    print(f\"    {letter}\")\n",
    "        \n",
    "        "
   ]
  },
  {
   "cell_type": "code",
   "execution_count": 29,
   "metadata": {},
   "outputs": [
    {
     "name": "stdout",
     "output_type": "stream",
     "text": [
      "The letters are:\n",
      "    e\n",
      "    H\n"
     ]
    }
   ],
   "source": [
    "# 18. Write a  Python Program to display the letters which are in the first string but not in the second string using set(). \n",
    "#     Data:\n",
    "#         x = \"Hello\"\n",
    "#         y = \"World\"\n",
    "#     Expected Output:\n",
    "#         The letters are:\n",
    "#             H\n",
    "#             e\n",
    "\n",
    "x = \"Hello\"\n",
    "y = \"World\"\n",
    "\n",
    "set_x = set(x)\n",
    "set_y = set(y)\n",
    "\n",
    "difference = set_x - set_y\n",
    "\n",
    "print(\"The letters are:\")\n",
    "for letter in difference:\n",
    "    print(f\"    {letter}\")\n",
    "\n",
    "        "
   ]
  },
  {
   "cell_type": "code",
   "execution_count": 32,
   "metadata": {},
   "outputs": [
    {
     "name": "stdout",
     "output_type": "stream",
     "text": [
      "The letters are:\n",
      "    d\n",
      "    e\n",
      "    H\n",
      "    r\n",
      "    W\n"
     ]
    }
   ],
   "source": [
    "# 19. Write Python Program to display the letters which are not in common from both the given strings using set(). \n",
    "#     Data:\n",
    "#         x = \"Hello\"\n",
    "#         y = \"World\"\n",
    "#     Expected Output:\n",
    "#         The letters are:\n",
    "#             W\n",
    "#             H\n",
    "#             d\n",
    "#             e\n",
    "#             r\n",
    "\n",
    "x = \"Hello\"\n",
    "y = \"World\"\n",
    "\n",
    "set_x = set(x)\n",
    "set_y = set(y)\n",
    "\n",
    "unique_letters = set_x.symmetric_difference(set_y)\n",
    "\n",
    "print(\"The letters are:\")\n",
    "for letter in unique_letters:\n",
    "    print(f\"    {letter}\")\n",
    "            \n",
    "        "
   ]
  },
  {
   "cell_type": "code",
   "execution_count": 33,
   "metadata": {},
   "outputs": [
    {
     "name": "stdout",
     "output_type": "stream",
     "text": [
      "If 1 is subset of 2\n",
      "False\n",
      "False\n",
      "If 2 is subset of 1\n",
      "False\n",
      "False\n"
     ]
    }
   ],
   "source": [
    "# 20. Write a Python program to check if a set is a subset of another set.\n",
    "#     Data:\n",
    "#         1:  {'green', 'blue'}\n",
    "#         2:  {'blue', 'red'}\n",
    "#         3:  {'blue'}\n",
    "#     Expected Output:\n",
    "#         If 1 is subset of 2\n",
    "#         False\n",
    "#         False\n",
    "#         If 2 is subset of 1\n",
    "#         False\n",
    "#         False\n",
    "\n",
    "set1 = {'green', 'blue'}\n",
    "set2 = {'blue', 'red'}\n",
    "set3 = {'blue'}\n",
    "\n",
    "print(\"If 1 is subset of 2\")\n",
    "print(set1.issubset(set2)) \n",
    "print(set1.issubset(set3)) \n",
    "\n",
    "print(\"If 2 is subset of 1\")\n",
    "print(set2.issubset(set1))  \n",
    "print(set2.issubset(set3))\n",
    "        \n",
    "        \n",
    "        \n",
    "        "
   ]
  }
 ],
 "metadata": {
  "kernelspec": {
   "display_name": "Python 3 (ipykernel)",
   "language": "python",
   "name": "python3"
  },
  "language_info": {
   "codemirror_mode": {
    "name": "ipython",
    "version": 3
   },
   "file_extension": ".py",
   "mimetype": "text/x-python",
   "name": "python",
   "nbconvert_exporter": "python",
   "pygments_lexer": "ipython3",
   "version": "3.12.7"
  }
 },
 "nbformat": 4,
 "nbformat_minor": 4
}
