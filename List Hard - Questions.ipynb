{
 "cells": [
  {
   "cell_type": "markdown",
   "metadata": {},
   "source": [
    "# List Hard Questions"
   ]
  },
  {
   "cell_type": "code",
   "execution_count": 1,
   "metadata": {},
   "outputs": [
    {
     "name": "stdout",
     "output_type": "stream",
     "text": [
      "Rotate the said list in left direction by 4:\n",
      "[5, 6, 7, 8, 9, 10, 1, 2, 3, 4]\n",
      "Rotate the said list in left direction by 2:\n",
      "[3, 4, 5, 6, 7, 8, 9, 10, 1, 2]\n",
      "Rotate the said list in right direction by 4:\n",
      "[7, 8, 9, 10, 1, 2, 3, 4, 5, 6]\n",
      "Rotate the said list in right direction by 2:\n",
      "[9, 10, 1, 2, 3, 4, 5, 6, 7, 8]\n"
     ]
    }
   ],
   "source": [
    "''' 1. Write a Python program to rotate a given list by specified number of items to the right or left direction.\n",
    "    Data:\n",
    "        [1, 2, 3, 4, 5, 6, 7, 8, 9, 10]\n",
    "    Expected Output:\n",
    "        Rotate the said list in left direction by 4:\n",
    "        [4, 5, 6, 7, 8, 9, 10, 1, 2, 3, 4]\n",
    "        Rotate the said list in left direction by 2:\n",
    "        [3, 4, 5, 6, 7, 8, 9, 10, 1, 2]\n",
    "        Rotate the said list in Right direction by 4:\n",
    "        [8, 9, 10, 1, 2, 3, 4, 5, 6]\n",
    "        Rotate the said list in Right direction by 2:\n",
    "        [9, 10, 1, 2, 3, 4, 5, 6, 7, 8]  '''\n",
    "\n",
    "def rotate_list(lst, k, direction='left'):\n",
    "    n = len(lst)\n",
    "    if n == 0:\n",
    "        return lst[:] \n",
    "    k = k % n\n",
    "    dir_lower = direction.lower()\n",
    "\n",
    "    if dir_lower.startswith('l'):   \n",
    "        return lst[k:] + lst[:k]\n",
    "    elif dir_lower.startswith('r'): \n",
    "        return lst[-k:] + lst[:-k]\n",
    "    else:\n",
    "        raise ValueError(\"direction must be 'left' or 'right'\")\n",
    "\n",
    "if __name__ == \"__main__\":\n",
    "    data = [1,2,3,4,5,6,7,8,9,10]\n",
    "\n",
    "    print(\"Rotate the said list in left direction by 4:\")\n",
    "    print(rotate_list(data, 4, 'left'))\n",
    "\n",
    "    print(\"Rotate the said list in left direction by 2:\")\n",
    "    print(rotate_list(data, 2, 'left'))\n",
    "\n",
    "    print(\"Rotate the said list in right direction by 4:\")\n",
    "    print(rotate_list(data, 4, 'right'))\n",
    "\n",
    "    print(\"Rotate the said list in right direction by 2:\")\n",
    "    print(rotate_list(data, 2, 'right'))\n",
    "\n",
    "        \n",
    "        \n",
    "        \n",
    "        "
   ]
  },
  {
   "cell_type": "code",
   "execution_count": 2,
   "metadata": {},
   "outputs": [
    {
     "name": "stdout",
     "output_type": "stream",
     "text": [
      "Item with maximum occurrences of the said list: 2\n"
     ]
    }
   ],
   "source": [
    "''' 2. Write a Python program to find an element which has maximum occurrences in a given list. \n",
    "    Data:\n",
    "        [2,3,8,4,7,9,9,2,6,5,1,6,1,3,3,4,6,9,1,2]\n",
    "    Expected Output:\n",
    "        Item with maximum occurrences of the said list:\n",
    "            2 '''\n",
    "\n",
    "data = [2, 3, 8, 4, 7, 9, 9, 2, 6, 5, 1, 6, 1, 3, 3, 4, 6, 9, 1, 2]\n",
    "\n",
    "freq = {}\n",
    "for num in data:\n",
    "    freq[num] = freq.get(num, 0) + 1\n",
    "\n",
    "max_item = None\n",
    "max_count = 0\n",
    "for num, count in freq.items():\n",
    "    if count > max_count:\n",
    "        max_count = count\n",
    "        max_item = num\n",
    "\n",
    "print(\"Item with maximum occurrences of the said list:\", max_item)\n",
    "            \n",
    "            \n",
    "            \n",
    "            "
   ]
  },
  {
   "cell_type": "code",
   "execution_count": 3,
   "metadata": {},
   "outputs": [
    {
     "name": "stdout",
     "output_type": "stream",
     "text": [
      "Index list:\n",
      "[0, 3, 5, 7, 10]\n",
      "\n",
      "Items with specified index of the said list:\n",
      "[2, 4, 9, 2, 1]\n"
     ]
    }
   ],
   "source": [
    "''' 3. Write a Python program to access multiple elements of specified index from a given list. \n",
    "    Data:\n",
    "        [2,3,8,4,7,9,7,2,6,5,1,5,1,2,3,4,6,9,3,2]\n",
    "    Expected Output:\n",
    "        Index list:\n",
    "        [0, 3, 5, 7, 10]\n",
    "\n",
    "        Items with specified index of the said list:\n",
    "        [2, 4, 9, 2, 1] '''\n",
    "\n",
    "data = [2, 3, 8, 4, 7, 9, 7, 2, 6, 5, 1, 5, 1, 2, 3, 4, 6, 9, 3, 2]\n",
    "indices = [0, 3, 5, 7, 10]\n",
    "items = [data[i] for i in indices]\n",
    "\n",
    "print(\"Index list:\")\n",
    "print(indices)\n",
    "print(\"\\nItems with specified index of the said list:\")\n",
    "print(items)\n",
    "\n",
    "        \n",
    "        \n",
    "        "
   ]
  },
  {
   "cell_type": "code",
   "execution_count": 4,
   "metadata": {},
   "outputs": [
    {
     "name": "stdout",
     "output_type": "stream",
     "text": [
      "Is the said list is sorted!\n",
      "True\n",
      "Is the said list is sorted!\n",
      "False\n"
     ]
    }
   ],
   "source": [
    "''' 4. Write a Python program to check whether the given list is sorted or not. Return True if yes, false if not.\n",
    "    Data:\n",
    "        Original list:\n",
    "        [1, 2, 4, 6, 8, 10, 12, 14, 16, 17]\n",
    "        [2, 3, 8, 4, 7, 9, 8, 2, 6, 5, 1, 6, 1, 2, 3, 4, 6, 9, 1, 2]\n",
    "    Expected Output:\n",
    "        Is the said list is sorted!\n",
    "        True\n",
    "        Is the said list is sorted!\n",
    "        False '''\n",
    "        \n",
    "\n",
    "def is_sorted(lst):\n",
    "    for i in range(len(lst) - 1):\n",
    "        if lst[i] > lst[i + 1]:\n",
    "            return False\n",
    "    return True\n",
    "\n",
    "\n",
    "if __name__ == \"__main__\":\n",
    "    list1 = [1, 2, 4, 6, 8, 10, 12, 14, 16, 17]\n",
    "    list2 = [2, 3, 8, 4, 7, 9, 8, 2, 6, 5, 1, 6, 1, 2, 3, 4, 6, 9, 1, 2]\n",
    "\n",
    "    for lst in (list1, list2):\n",
    "        print(\"Is the said list is sorted!\")\n",
    "        print(is_sorted(lst))\n",
    "        \n",
    "        "
   ]
  },
  {
   "cell_type": "code",
   "execution_count": 5,
   "metadata": {},
   "outputs": [
    {
     "name": "stdout",
     "output_type": "stream",
     "text": [
      "After removing duplicate dictionary of the said list:\n",
      "[{'Black': 'Cotton'}, {'Red': 'Pulses'}, {'Laterite': 'Cashews'}, {'Alluvial': 'Rice'}]\n"
     ]
    }
   ],
   "source": [
    "''' 5. Write a Python program to remove duplicate dictionary from a given list. \n",
    "    Data:\n",
    "        l = [{'Black': 'Cotton'}, {'Red': 'Pulses'}, {'Laterite': 'Cashews'}, {'Black': 'Cotton'}, {'Alluvial': 'Rice'}]\n",
    "    Expected Output:\n",
    "        After removing duplicate dictionary of the said list:\n",
    "        [{'Black': 'Cotton'}, {'Red': 'Pulses'}, {'Laterite': 'Cashews'}, {'Alluvial': 'Rice'}] '''\n",
    "\n",
    "l = [\n",
    "    {'Black': 'Cotton'},\n",
    "    {'Red': 'Pulses'},\n",
    "    {'Laterite': 'Cashews'},\n",
    "    {'Black': 'Cotton'},\n",
    "    {'Alluvial': 'Rice'}\n",
    "]\n",
    "\n",
    "unique_dicts = []\n",
    "seen = set()\n",
    "\n",
    "for d in l:\n",
    "\n",
    "    key = frozenset(d.items())\n",
    "    if key not in seen:\n",
    "        seen.add(key)\n",
    "        unique_dicts.append(d)\n",
    "\n",
    "print(\"After removing duplicate dictionary of the said list:\")\n",
    "print(unique_dicts)\n",
    "        \n",
    "        \n",
    "        \n",
    "        "
   ]
  },
  {
   "cell_type": "code",
   "execution_count": 6,
   "metadata": {},
   "outputs": [
    {
     "name": "stdout",
     "output_type": "stream",
     "text": [
      "Extract nth element (n = 0): ['boss', 'kumar', 'karthi', 'siva']\n",
      "Extract nth element (n = 2): [99, 96, 94, 98]\n"
     ]
    }
   ],
   "source": [
    "''' 6. Write a Python program to extract the nth element from a given list of tuples. \n",
    "    Data:\n",
    "        [('boss', 98, 99), ('kumar', 97, 96), ('karthi', 91, 94), ('siva', 94, 98)]\n",
    "    Expected Output:\n",
    "        Extract nth element ( n = 0 ) from the said list of tuples:\n",
    "        ['boss', 'kumar', 'karthi', 'siva']\n",
    "\n",
    "        Extract nth element ( n = 2 ) from the said list of tuples:\n",
    "        [99, 96, 94, 98] '''\n",
    "\n",
    "def extract_nth(data, n):\n",
    "    try:\n",
    "        return [t[n] for t in data]\n",
    "    except IndexError:\n",
    "        raise ValueError(f\"Index {n} is out of range for one of the tuples.\")\n",
    "\n",
    "data = [\n",
    "    ('boss', 98, 99),\n",
    "    ('kumar', 97, 96),\n",
    "    ('karthi', 91, 94),\n",
    "    ('siva', 94, 98)\n",
    "]\n",
    "\n",
    "result0 = extract_nth(data, 0)\n",
    "print(\"Extract nth element (n = 0):\", result0)\n",
    "\n",
    "result2 = extract_nth(data, 2)\n",
    "print(\"Extract nth element (n = 2):\", result2)\n",
    "        \n",
    "        \n",
    "        \n",
    "        "
   ]
  },
  {
   "cell_type": "code",
   "execution_count": 8,
   "metadata": {},
   "outputs": [
    {
     "name": "stdout",
     "output_type": "stream",
     "text": [
      "Is the said list contains all unique elements!\n",
      "False\n",
      "Is the said list contains all unique elements!\n",
      "True\n"
     ]
    }
   ],
   "source": [
    "''' 7. Write a Python program to check whether the elements of a given list are unique or not.\n",
    "    Data:\n",
    "        [3, 7, 4, 6, 8, 2, 1, 4, 10, 11, 14, 12, 16, 17]\n",
    "        [2, 4, 6, 8, 10, 12, 14]\n",
    "    Expected Output:\n",
    "        Is the said list contains all unique elements!\n",
    "        False\n",
    "        Is the said list contains all unique elements!\n",
    "        True '''\n",
    "\n",
    "def check_unique(a_list):\n",
    "    return len(a_list) == len(set(a_list))\n",
    "\n",
    "\n",
    "if __name__ == \"__main__\":\n",
    "    data1 = [3, 7, 4, 6, 8, 2, 1, 4, 10, 11, 14, 12, 16, 17]\n",
    "    data2 = [2, 4, 6, 8, 10, 12, 14]\n",
    "\n",
    "    for data in (data1, data2):\n",
    "        result = check_unique(data)\n",
    "        print(\"Is the said list contains all unique elements!\")\n",
    "        print(result)\n",
    "        \n",
    "        \n",
    "        \n",
    "        "
   ]
  },
  {
   "cell_type": "code",
   "execution_count": 9,
   "metadata": {},
   "outputs": [
    {
     "name": "stdout",
     "output_type": "stream",
     "text": [
      "Sort the said list of lists by a given index (Index = 0):\n",
      "[('bala', 97, 96), ('boss', 94, 98), ('kumar', 91, 94), ('siva', 98, 99)]\n",
      "\n",
      "Sort the said list of lists by a given index (Index = 2):\n",
      "[('kumar', 91, 94), ('bala', 97, 96), ('boss', 94, 98), ('siva', 98, 99)]\n"
     ]
    }
   ],
   "source": [
    "''' 8. Write a Python program to sort a list of lists by a given index of the inner list. \n",
    "    Data:\n",
    "        [('siva', 98, 99), ('bala', 97, 96), ('kumar', 91, 94), ('boss', 94, 98)]\n",
    "    Expected Output:\n",
    "        Sort the said list of lists by a given index ( Index =  0 ) of the inner list\n",
    "        [('bala', 97, 96), ('boss', 94, 98), ('kumar', 91, 94), ('siva', 98, 99)]\n",
    "\n",
    "        Sort the said list of lists by a given index ( Index =  2 ) of the inner list\n",
    "        [('kumar', 91, 94), ('bala', 97, 96), ('boss', 94, 98), ('siva', 98, 99)] '''\n",
    "\n",
    "data = [\n",
    "    ('siva',  98, 99),\n",
    "    ('bala',  97, 96),\n",
    "    ('kumar', 91, 94),\n",
    "    ('boss',  94, 98),\n",
    "]\n",
    "\n",
    "def sort_by_index(data, idx):\n",
    "    return sorted(data, key=lambda item: item[idx])\n",
    "print(\"Sort the said list of lists by a given index (Index = 0):\")\n",
    "print(sort_by_index(data, 0))\n",
    "\n",
    "print(\"\\nSort the said list of lists by a given index (Index = 2):\")\n",
    "print(sort_by_index(data, 2))\n",
    "        \n",
    "        \n",
    "        \n",
    "        "
   ]
  },
  {
   "cell_type": "code",
   "execution_count": 10,
   "metadata": {},
   "outputs": [
    {
     "name": "stdout",
     "output_type": "stream",
     "text": [
      "Remove all elements from 'x' present in 'y': [1, 2, 3, 6, 8, 10]\n"
     ]
    }
   ],
   "source": [
    "''' 9. Write a Python program to remove those elements from a given list that are present in the another list. \n",
    "    Data:\n",
    "        x: [1, 2, 3, 4, 5, 6, 7, 8, 9, 10]\n",
    "        y: [5, 4, 7, 9]\n",
    "    Expected Output:\n",
    "        Remove all elements from 'x' present in 'y:\n",
    "        [1, 2, 3, 6, 8, 10] '''\n",
    "        \n",
    "\n",
    "x = [1, 2, 3, 4, 5, 6, 7, 8, 9, 10]\n",
    "y = [5, 4, 7, 9]\n",
    "\n",
    "y_set = set(y)\n",
    "\n",
    "filtered_x = [item for item in x if item not in y_set]\n",
    "\n",
    "print(\"Remove all elements from 'x' present in 'y':\", filtered_x)\n",
    "        \n",
    "        "
   ]
  },
  {
   "cell_type": "code",
   "execution_count": 11,
   "metadata": {},
   "outputs": [
    {
     "name": "stdout",
     "output_type": "stream",
     "text": [
      "Difference between elements (n+1th – nth) of the said list :\n",
      "[3, -4, 5, 2, 14, -17, 6, 12]\n"
     ]
    }
   ],
   "source": [
    "''' 10. Write a Python program to find the difference between elements (n+1th - nth) from a given list. \n",
    "    Data:\n",
    "        x1 = [3, 6, 2, 7, 9, 23, 6, 12, 24]\n",
    "    Expected Output:\n",
    "        Difference between elements (n+1th – nth) of the said list :\n",
    "        [3, -4, 5, 2, 14, -17, 6, 12] '''\n",
    "\n",
    "x1 = [3, 6, 2, 7, 9, 23, 6, 12, 24]\n",
    "\n",
    "diffs = [x1[i+1] - x1[i] for i in range(len(x1) - 1)]\n",
    "\n",
    "print(\"Difference between elements (n+1th – nth) of the said list :\")\n",
    "print(diffs)\n",
    "        \n",
    "        \n",
    "        \n",
    "        "
   ]
  },
  {
   "cell_type": "code",
   "execution_count": 12,
   "metadata": {},
   "outputs": [
    {
     "name": "stdout",
     "output_type": "stream",
     "text": [
      "Substring to search: ugu\n",
      "Check if a substring presents in the said list of string values: True\n",
      "\n",
      "Substring to search: alaya\n",
      "Check if a substring presents in the said list of string values: False\n",
      "\n"
     ]
    }
   ],
   "source": [
    "''' 11. Write a Python program to check whether a substring presents in the given list. \n",
    "    Data:\n",
    "        ['Kannada', 'Telugu', 'Hindi', 'Tamizh', 'Odia']\n",
    "    Expected Output:\n",
    "        Substring to search: ugu\n",
    "        Check if a substring presents in the said list of string values: True\n",
    "        \n",
    "        Substring to search: alaya\n",
    "        Check if a substring presents in the said list of string values: False '''\n",
    "        \n",
    "        \n",
    "\n",
    "languages = ['Kannada', 'Telugu', 'Hindi', 'Tamizh', 'Odia']\n",
    "\n",
    "def check_substring_in_list(substr, items):\n",
    "    return any(substr in item for item in items)\n",
    "\n",
    "for test_substr in ['ugu', 'alaya']:\n",
    "    result = check_substring_in_list(test_substr, languages)\n",
    "    print(f\"Substring to search: {test_substr}\")\n",
    "    print(f\"Check if a substring presents in the said list of string values: {result}\")\n",
    "    print()  \n",
    "        "
   ]
  },
  {
   "cell_type": "code",
   "execution_count": 13,
   "metadata": {},
   "outputs": [
    {
     "name": "stdout",
     "output_type": "stream",
     "text": [
      "['Soverign', 'Secular', 'Republic']\n"
     ]
    }
   ],
   "source": [
    "''' 12. Write a Python program to create a new list by taking alternate elements from a given list.\n",
    "    Data:\n",
    "        ['Soverign', 'Socialist', 'Secular', 'Democratic', 'Republic']\n",
    "    Expected Output:\n",
    "        ['Soverign', 'Secular', 'Republic'] '''\n",
    "\n",
    "data_list = ['Soverign', 'Socialist', 'Secular', 'Democratic', 'Republic']\n",
    "alternate_list = data_list[::2]\n",
    "\n",
    "print(alternate_list)\n",
    "        \n",
    "        \n",
    "        \n",
    "        "
   ]
  },
  {
   "cell_type": "code",
   "execution_count": 14,
   "metadata": {},
   "outputs": [
    {
     "name": "stdout",
     "output_type": "stream",
     "text": [
      "Intersection of said nested lists:\n",
      "[[11], [7, 11], [1, 5, 8]]\n"
     ]
    }
   ],
   "source": [
    "''' 13. Write a Python program to find the nested lists elements which are present in another list. \n",
    "    Data:\n",
    "        [1, 2, 3, 4, 5, 6, 7, 8, 9, 10, 11, 12, 13, 14]\n",
    "        [[11, 18, 23, 25, 42], [7, 11, 18, 24, 28], [1, 5, 8, 18, 15, 16]]\n",
    "    Expected Output:\n",
    "        Intersection of said nested lists:\n",
    "        [[11], [7, 11], [1, 5, 8]] '''\n",
    "\n",
    "data = [1,  2,  3,  4,  5,  6,  7,  8,  9, 10, 11, 12, 13, 14]\n",
    "nested_lists = [\n",
    "    [11, 18, 23, 25, 42],\n",
    "    [ 7, 11, 18, 24, 28],\n",
    "    [ 1,  5,  8, 18, 15, 16]\n",
    "]\n",
    "\n",
    "data_set = set(data)\n",
    "\n",
    "result = [\n",
    "    [x for x in sublist if x in data_set]  \n",
    "    for sublist in nested_lists\n",
    "]\n",
    "\n",
    "print(\"Intersection of said nested lists:\")\n",
    "print(result)\n",
    "        \n",
    "        \n",
    "        \n",
    "        "
   ]
  },
  {
   "cell_type": "code",
   "execution_count": 15,
   "metadata": {},
   "outputs": [
    {
     "name": "stdout",
     "output_type": "stream",
     "text": [
      "Common element(s) in nested lists:\n",
      "[18]\n"
     ]
    }
   ],
   "source": [
    "''' 14. Write a Python program to find common element(s) from the given nested lists. \n",
    "    Data:\n",
    "        Original lists:\n",
    "        [[11, 18, 23, 25, 42], [7, 11, 18, 24, 28], [1, 5, 8, 18, 15, 16]]\n",
    "    Expected Output:\n",
    "        Common element(s) in nested lists:\n",
    "        [18] '''\n",
    "\n",
    "nested_lists = [[11, 18, 23, 25, 42],\n",
    "                [7, 11, 18, 24, 28],\n",
    "                [1, 5, 8, 18, 15, 16]]\n",
    "\n",
    "common = list(set(nested_lists[0]).intersection(*nested_lists[1:]))\n",
    "\n",
    "print(\"Common element(s) in nested lists:\")\n",
    "print(common)\n",
    "        \n",
    "        \n",
    "        \n"
   ]
  },
  {
   "cell_type": "code",
   "execution_count": 16,
   "metadata": {},
   "outputs": [
    {
     "name": "stdout",
     "output_type": "stream",
     "text": [
      "Reverse strings of the said given list:\n",
      "['kserus', 'ramuk', 'avis', 'ssob', 'alab']\n"
     ]
    }
   ],
   "source": [
    "''' 15. Write a Python program to print reverse strings of strings that are present in the given list. \n",
    "    Data:\n",
    "        ['suresk', 'kumar', 'siva', 'boss', 'bala']\n",
    "    Expected Output:\n",
    "        Reverse strings of the said given list:\n",
    "        ['kserus', 'ramuk', 'avis', 'ssob', 'alab'] '''\n",
    "\n",
    "data = ['suresk', 'kumar', 'siva', 'boss', 'bala']\n",
    "\n",
    "reversed_list = [s[::-1] for s in data]\n",
    "\n",
    "print(\"Reverse strings of the said given list:\")\n",
    "print(reversed_list)\n",
    "        \n",
    "        \n",
    "        \n",
    "        "
   ]
  },
  {
   "cell_type": "code",
   "execution_count": 17,
   "metadata": {},
   "outputs": [
    {
     "name": "stdout",
     "output_type": "stream",
     "text": [
      "Maximum and minimum product from the pairs of the said tuple of list:\n",
      "(36, 8)\n"
     ]
    }
   ],
   "source": [
    "''' 16. Write a Python program to find the maximum and minimum product from the pairs of tuple in a given list. \n",
    "    Data:\n",
    "        [(2, 7), (2, 6), (1, 8), (4, 9)]\n",
    "    Expected Output:\n",
    "        Maximum and minimum product from the pairs of the said tuple of list:\n",
    "        (36, 8) '''\n",
    "\n",
    "data = [(2, 7), (2, 6), (1, 8), (4, 9)]\n",
    "\n",
    "products = [a * b for (a, b) in data]\n",
    "\n",
    "max_product = max(products)\n",
    "min_product = min(products)\n",
    "\n",
    "print(\"Maximum and minimum product from the pairs of the said tuple of list:\")\n",
    "print((max_product, min_product))\n",
    "    \n",
    "    \n",
    "    \n",
    "    "
   ]
  },
  {
   "cell_type": "code",
   "execution_count": 18,
   "metadata": {},
   "outputs": [
    {
     "name": "stdout",
     "output_type": "stream",
     "text": [
      "Product of the unique numbers of the said list: 12000000\n"
     ]
    }
   ],
   "source": [
    "''' 17. Write a Python program to calculate the product of the unique numbers from the given list. \n",
    "    Data:\n",
    "        [10, 20, 30, 40, 30, 50, 50, 40]\n",
    "    Expected Output:\n",
    "        Product of the unique numbers of the said list:  12000000 '''\n",
    "\n",
    "from functools import reduce\n",
    "import operator\n",
    "\n",
    "data = [10, 20, 30, 40, 30, 50, 50, 40]\n",
    "\n",
    "unique_nums = set(data)\n",
    "\n",
    "product = reduce(operator.mul, unique_nums, 1)\n",
    "\n",
    "print(\"Product of the unique numbers of the said list:\", product)\n",
    "            \n",
    "            \n",
    "            \n",
    "            "
   ]
  },
  {
   "cell_type": "code",
   "execution_count": 19,
   "metadata": {},
   "outputs": [
    {
     "name": "stdout",
     "output_type": "stream",
     "text": [
      "Interleave multiple lists:\n",
      "[1, 10, 100, 2, 20, 200, 3, 30, 300, 4, 40, 400, 5, 50, 500, 6, 60, 600, 7, 70, 700]\n"
     ]
    }
   ],
   "source": [
    "''' 18. Write a Python program to interleave multiple lists of same length. \n",
    "    Data:\n",
    "        x: [1, 2, 3, 4, 5, 6, 7]\n",
    "        y: [10, 20, 30, 40, 50, 60, 70]\n",
    "        z: [100, 200, 300, 400, 500, 600, 700]\n",
    "    Expected Output:\n",
    "        Interleave multiple lists:\n",
    "        [1, 10, 100, 2, 20, 200, 3, 30, 300, 4, 40, 400, 5, 50, 500, 6, 60, 600, 7, 70, 700] '''\n",
    "        \n",
    "\n",
    "from itertools import chain\n",
    "\n",
    "def interleave(*lists):\n",
    "    \"\"\"\n",
    "    Interleave multiple lists of the same length.\n",
    "    E.g. interleave([1,2], [10,20]) -> [1, 10, 2, 20]\n",
    "    \"\"\"\n",
    "    return [item for group in zip(*lists) for item in group]\n",
    "\n",
    "if __name__ == \"__main__\":\n",
    "    x = [1, 2, 3, 4, 5, 6, 7]\n",
    "    y = [10, 20, 30, 40, 50, 60, 70]\n",
    "    z = [100, 200, 300, 400, 500, 600, 700]\n",
    "\n",
    "    result = interleave(x, y, z)\n",
    "    print(\"Interleave multiple lists:\")\n",
    "    print(result)\n",
    "        \n",
    "        "
   ]
  },
  {
   "cell_type": "code",
   "execution_count": 20,
   "metadata": {},
   "outputs": [
    {
     "name": "stdout",
     "output_type": "stream",
     "text": [
      "Character list:\n",
      "['#', 'color', '@']\n",
      "\n",
      "New list:\n",
      "['suresk', '', 'siva', '', 'bala']\n"
     ]
    }
   ],
   "source": [
    "''' 19. Write a Python program to remove those words from the given list which contains a special character or a specified string. \n",
    "    Data:\n",
    "        ['suresk', 'kumar#', 'siva', 'boss@', 'bala']\n",
    "    Expected Output:\n",
    "        Character list:\n",
    "        ['#', 'color', '@']\n",
    "\n",
    "        New list:\n",
    "        ['suresk', '', 'siva', '', 'bala'] '''\n",
    "\n",
    "data = ['suresk', 'kumar#', 'siva', 'boss@', 'bala']\n",
    "specs = ['#', 'color', '@']\n",
    "\n",
    "new_list = [\n",
    "    '' if any(sub in word for sub in specs) else word\n",
    "    for word in data\n",
    "]\n",
    "\n",
    "print(\"Character list:\")\n",
    "print(specs)\n",
    "\n",
    "print(\"\\nNew list:\")\n",
    "print(new_list)\n",
    "        \n",
    "        \n",
    "        \n",
    "        "
   ]
  },
  {
   "cell_type": "code",
   "execution_count": 21,
   "metadata": {},
   "outputs": [
    {
     "name": "stdout",
     "output_type": "stream",
     "text": [
      "Range: 8 , 10\n",
      "Sum of the specified range: 29\n"
     ]
    }
   ],
   "source": [
    "''' 20. Write a Python program to calculate the sum of the numbers in a list between the indices of a specified range. \n",
    "    Data:\n",
    "        [4, 1, 9, 6, 8, 3, 1, 9, 10, 11, 8, 12]\n",
    "    Expected Output:\n",
    "        Range: 8 , 10\n",
    "        Sum of the specified range:\n",
    "        29 '''\n",
    "\n",
    "data_list = [4, 1, 9, 6, 8, 3, 1, 9, 10, 11, 8, 12]\n",
    "start_index = 8\n",
    "end_index = 10\n",
    "\n",
    "sub_list = data_list[start_index:end_index + 1]\n",
    "\n",
    "range_sum = sum(sub_list)\n",
    "\n",
    "print(f\"Range: {start_index} , {end_index}\")\n",
    "print(\"Sum of the specified range:\", range_sum)\n",
    "        \n",
    "        \n",
    "        "
   ]
  }
 ],
 "metadata": {
  "kernelspec": {
   "display_name": "Python 3 (ipykernel)",
   "language": "python",
   "name": "python3"
  },
  "language_info": {
   "codemirror_mode": {
    "name": "ipython",
    "version": 3
   },
   "file_extension": ".py",
   "mimetype": "text/x-python",
   "name": "python",
   "nbconvert_exporter": "python",
   "pygments_lexer": "ipython3",
   "version": "3.12.7"
  }
 },
 "nbformat": 4,
 "nbformat_minor": 4
}
