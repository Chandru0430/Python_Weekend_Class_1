{
 "cells": [
  {
   "cell_type": "markdown",
   "metadata": {},
   "source": [
    "# List Comprehension Intermediate Questions"
   ]
  },
  {
   "cell_type": "code",
   "execution_count": 1,
   "metadata": {},
   "outputs": [
    {
     "name": "stdout",
     "output_type": "stream",
     "text": [
      "[2, 8, 18, 32]\n"
     ]
    }
   ],
   "source": [
    "# 1. Write a Python program to print the double of each items in the given lists.\n",
    "#     Data:\n",
    "#         comp=[1, 4, 9, 16]\n",
    "#     Expected Output:\n",
    "#         [2, 8, 18, 32]\n",
    "\n",
    "comp = [1, 4, 9, 16]\n",
    "doubled = [item * 2 for item in comp]\n",
    "print(doubled)\n",
    "        \n",
    "        "
   ]
  },
  {
   "cell_type": "code",
   "execution_count": 2,
   "metadata": {},
   "outputs": [
    {
     "name": "stdout",
     "output_type": "stream",
     "text": [
      "[1, 5, 14, 30]\n"
     ]
    }
   ],
   "source": [
    "# 2. Write a python program to find cumulative sum of a list using list comprehension.\n",
    "#     Data:\n",
    "#         x = [1, 4, 9, 16]\n",
    "#     Expected Output:\n",
    "#         [1, 5, 14, 30]\n",
    "\n",
    "x = [1, 4, 9, 16]\n",
    "cumulative_sum = [sum(x[:i+1]) for i in range(len(x))]\n",
    "print(cumulative_sum)\n",
    "        \n",
    "        \n",
    "        "
   ]
  },
  {
   "cell_type": "code",
   "execution_count": 3,
   "metadata": {},
   "outputs": [
    {
     "name": "stdout",
     "output_type": "stream",
     "text": [
      "[1, 9, 25, 49, 81]\n"
     ]
    }
   ],
   "source": [
    "# 3. Write a Python program to print a list which contains square of all odd numbers from 1 to 10. \n",
    "#     Expected Output:\n",
    "#         [1, 9, 25, 49, 81]  \n",
    "\n",
    "squares_of_odds = [x**2 for x in range(1, 11) if x % 2 != 0]\n",
    "print(squares_of_odds)\n",
    "        \n",
    "        "
   ]
  },
  {
   "cell_type": "code",
   "execution_count": 4,
   "metadata": {},
   "outputs": [
    {
     "name": "stdout",
     "output_type": "stream",
     "text": [
      "[2, 4, 8, 16, 32, 64, 128, 256]\n"
     ]
    }
   ],
   "source": [
    "# 4. Write a Python program to print a list which contains the power of 2 from 1 to 8.\n",
    "#     Expected Output:\n",
    "#         [2, 4, 8, 16, 32, 64, 128, 256]   \n",
    "\n",
    "powers_of_two = [2 ** i for i in range(1, 9)]\n",
    "print(powers_of_two)\n",
    "        \n",
    "        \n",
    "        "
   ]
  },
  {
   "cell_type": "code",
   "execution_count": 5,
   "metadata": {},
   "outputs": [
    {
     "name": "stdout",
     "output_type": "stream",
     "text": [
      "[2, 3, 5, 7, 11, 13, 17, 19, 23, 29, 31, 37, 41, 43, 47]\n"
     ]
    }
   ],
   "source": [
    "# 5. Write a Python program to print a list contains prime and non-prime numbers from 1 to 50. \n",
    "#     Expected Output:\n",
    "#         [2, 3, 5, 7, 11, 13, 17, 19, 23, 29, 31, 37, 41, 43, 47]\n",
    "\n",
    "primes = [num for num in range(2, 51) if all(num % i != 0 for i in range(2, int(num ** 0.5) + 1))]\n",
    "print(primes)\n",
    "        \n",
    "        \n",
    "        "
   ]
  },
  {
   "cell_type": "code",
   "execution_count": 6,
   "metadata": {},
   "outputs": [
    {
     "name": "stdout",
     "output_type": "stream",
     "text": [
      "Multiplication Table\n",
      "[5, 1, 5]\n",
      "[5, 2, 10]\n",
      "[5, 3, 15]\n",
      "[5, 4, 20]\n",
      "[5, 5, 25]\n",
      "[5, 6, 30]\n",
      "[5, 7, 35]\n",
      "[5, 8, 40]\n",
      "[5, 9, 45]\n",
      "[5, 10, 50]\n"
     ]
    }
   ],
   "source": [
    "# 6. Write a Python program to print multiplication table of 5 upto 10 using list comprehension.\n",
    "#     Expected Output:\n",
    "#         Multiplication Table\n",
    "#         [5, 1, 5]\n",
    "#         [5, 2, 10]\n",
    "#         [5, 3, 15]\n",
    "#         [5, 4, 20]\n",
    "#         [5, 5, 25]\n",
    "#         [5, 6, 30]\n",
    "#         [5, 7, 35]\n",
    "#         [5, 8, 40]\n",
    "#         [5, 9, 45]\n",
    "#         [5, 10, 50]\n",
    "\n",
    "print(\"Multiplication Table\")\n",
    "table = [[5, i, 5 * i] for i in range(1, 11)]\n",
    "for row in table:\n",
    "    print(row)\n",
    "        \n",
    "        \n",
    "        "
   ]
  },
  {
   "cell_type": "code",
   "execution_count": 1,
   "metadata": {},
   "outputs": [
    {
     "name": "stdout",
     "output_type": "stream",
     "text": [
      "[[0, 1, 2, 3, 4], [0, 1, 2, 3, 4], [0, 1, 2, 3, 4], [0, 1, 2, 3, 4], [0, 1, 2, 3, 4]]\n"
     ]
    }
   ],
   "source": [
    "# 7. Write a Python program to create a matrix as displayed in expected output.\n",
    "#     Expected Output:\n",
    "#         matrixs =[[0, 1, 2, 3, 4],\n",
    "#                  [0, 1, 2, 3, 4],\n",
    "#                  [0, 1, 2, 3, 4],\n",
    "#                  [0, 1, 2, 3, 4],\n",
    "#                  [0, 1, 2, 3, 4]]    \n",
    "        \n",
    "        \n",
    "matrixs = []\n",
    "for i in range(5):\n",
    "    row = []\n",
    "    for j in range(5):\n",
    "        row.append(j)\n",
    "    matrixs.append(row)\n",
    "\n",
    "print(matrixs)"
   ]
  },
  {
   "cell_type": "code",
   "execution_count": 15,
   "metadata": {},
   "outputs": [
    {
     "name": "stdout",
     "output_type": "stream",
     "text": [
      "[1, 7, 3, 4, 9, 6, 7, 10, 9]\n"
     ]
    }
   ],
   "source": [
    "# 8. Write a Python program to flatten a given 2-D list.\n",
    "#     Data:\n",
    "#         matrixs = [[1, 7, 3], [4, 9, 6], [7, 10, 9]]   \n",
    "#     Expected Output:\n",
    "#         [1, 7, 3, 4, 9, 6, 7, 10, 9]\n",
    "\n",
    "matrixs = [[1, 7, 3], [4, 9, 6], [7, 10, 9]]\n",
    "flattened = [item for sublist in matrixs for item in sublist]\n",
    "\n",
    "print(flattened)\n",
    "        \n",
    "        \n",
    "        \n",
    "        "
   ]
  },
  {
   "cell_type": "code",
   "execution_count": 16,
   "metadata": {},
   "outputs": [
    {
     "name": "stdout",
     "output_type": "stream",
     "text": [
      "['Mars', 'Venus', 'Earth', 'Pluto']\n"
     ]
    }
   ],
   "source": [
    "# 9. Write a Python program to print the items whose length are < 6 from the given nested list using list comprehension.\n",
    "#     Data:\n",
    "#         lists= [['Mars', 'Jupiter', 'Saturn'],['Mercury', 'Venus', 'Earth'] ,['Uranus', 'Neptune', 'Pluto']]   \n",
    "#     Expected Output:\n",
    "#         ['Mars', 'Venus', 'Earth', 'Pluto']\n",
    "\n",
    "lists = [['Mars', 'Jupiter', 'Saturn'],\n",
    "         ['Mercury', 'Venus', 'Earth'],\n",
    "         ['Uranus', 'Neptune', 'Pluto']]\n",
    "\n",
    "result = [item for sublist in lists for item in sublist if len(item) < 6]\n",
    "print(result)\n",
    "        \n",
    "        \n",
    "        \n",
    "        "
   ]
  },
  {
   "cell_type": "code",
   "execution_count": 2,
   "metadata": {},
   "outputs": [
    {
     "name": "stdout",
     "output_type": "stream",
     "text": [
      "Execution time =  0.16745400428771973\n"
     ]
    }
   ],
   "source": [
    "'''10. Write a Python program to form a list of all even numbers upto 10**7.\n",
    "    Expected Output:\n",
    "        Execution time =  2.050727367401123 '''\n",
    "\n",
    "import time\n",
    "\n",
    "start_time = time.time()\n",
    "\n",
    "even_numbers = list(range(0, 10**7 + 1, 2))\n",
    "\n",
    "end_time = time.time()\n",
    "\n",
    "print(\"Execution time = \", end_time - start_time)\n",
    "        "
   ]
  },
  {
   "cell_type": "code",
   "execution_count": 3,
   "metadata": {},
   "outputs": [
    {
     "name": "stdout",
     "output_type": "stream",
     "text": [
      "Comprehensions = 85176\n",
      "Generator =  200\n"
     ]
    }
   ],
   "source": [
    "# 11, Write a Python program to form difference between Generator Expressions and List Comprehensions.\n",
    "#     Data:\n",
    "#         range(10000)\n",
    "#     Expected Output:\n",
    "#         Comprehensions = 87616\n",
    "#         Generator =  112\n",
    "        \n",
    "\n",
    "import sys\n",
    "data = range(10000)\n",
    "\n",
    "comprehension = [x*2 for x in data]\n",
    "comprehension_size = sys.getsizeof(comprehension)\n",
    "\n",
    "generator = (x*2 for x in data)\n",
    "generator_size = sys.getsizeof(generator)\n",
    "\n",
    "print(\"Comprehensions =\", comprehension_size)\n",
    "print(\"Generator = \", generator_size)"
   ]
  },
  {
   "cell_type": "code",
   "execution_count": 34,
   "metadata": {},
   "outputs": [
    {
     "name": "stdout",
     "output_type": "stream",
     "text": [
      "['sun1', 'sun2', 'sun3', 'sun4', 'sun5', 'sun6', 'sun4', 'sun3', 'sun5', 'sun67', 'sun8', 'sun9']\n"
     ]
    }
   ],
   "source": [
    "# 12. Write a Python program to insert a given string at the beginning of each item in a list.\n",
    "#     Data:\n",
    "#         lists : [1,2,3,4,5,6,4,3,5,67,8,9]\n",
    "#         string : \"sun\"\n",
    "#     Expected Output:\n",
    "#         ['sun1', 'sun2', 'sun3', 'sun4', 'sun5', 'sun6', 'sun4', 'sun3', 'sun5', 'sun67', 'sun8', 'sun9']\n",
    "        \n",
    "\n",
    "lists = [1,2,3,4,5,6,4,3,5,67,8,9]\n",
    "string = \"sun\"\n",
    "\n",
    "result = [string + str(item) for item in lists]\n",
    "print(result)\n",
    "        \n",
    "        "
   ]
  },
  {
   "cell_type": "code",
   "execution_count": 35,
   "metadata": {},
   "outputs": [
    {
     "name": "stdout",
     "output_type": "stream",
     "text": [
      "[[14, 33, 55, 17], [22, 44, 61, 81]]\n"
     ]
    }
   ],
   "source": [
    "# 13. Write a Python program to print transpose of a Matrix using list comprehension.\n",
    "#     Data:\n",
    "#         x = [[14, 22], [33,44], [55,61], [17,81]]\n",
    "#     Expected Output:\n",
    "#         [[14, 33, 55, 17], [22, 44, 61, 81]]\n",
    "\n",
    "x = [[14, 22], [33, 44], [55, 61], [17, 81]]\n",
    "\n",
    "transpose = [list(row) for row in zip(*x)]\n",
    "\n",
    "print(transpose)\n",
    "        \n",
    "        "
   ]
  },
  {
   "cell_type": "code",
   "execution_count": 37,
   "metadata": {},
   "outputs": [
    {
     "name": "stdout",
     "output_type": "stream",
     "text": [
      "[28, 28, 42, 4, 4, 6, 16, 16, 24, 12, 12, 18]\n"
     ]
    }
   ],
   "source": [
    "# 14. Write a Python program to print following output from given list a = [-4, -1, 7, 1, 4, 3], b = [4, 4, 6, 7, 9].\n",
    "#     Expected Output:\n",
    "#         [28, 28, 42, 4, 4, 6, 16, 16, 24, 12, 12, 18] \n",
    "\n",
    "a = [-4, -1, 7, 1, 4, 3]\n",
    "b = [4, 4, 6, 7, 9]\n",
    "\n",
    "result = []\n",
    "for i in range(2, 6):  # a[2], a[3], a[4], a[5]\n",
    "    for j in range(3):  # b[0], b[1], b[2]\n",
    "        result.append(a[i] * b[j])\n",
    "\n",
    "print(result)\n",
    "        \n",
    "      \n",
    "        "
   ]
  },
  {
   "cell_type": "code",
   "execution_count": 38,
   "metadata": {},
   "outputs": [
    {
     "name": "stdout",
     "output_type": "stream",
     "text": [
      "(66, 10)\n"
     ]
    }
   ],
   "source": [
    "# 15. Write a Python program to find a tuple in the list of tuple, whose second element is the smallest using list comprehension. \n",
    "#     Data:\n",
    "#         x = [(10, 14), (12, 22), (66, 10)]\n",
    "#     Expected Output:\n",
    "#         (66, 10)\n",
    "\n",
    "x = [(10, 14), (12, 22), (66, 10)]\n",
    "min_second = min(t[1] for t in x)\n",
    "result = [t for t in x if t[1] == min_second][0]  # [0] to get the first (and only) tuple\n",
    "\n",
    "print(result)\n",
    "        \n",
    "        \n",
    "        "
   ]
  },
  {
   "cell_type": "code",
   "execution_count": 39,
   "metadata": {},
   "outputs": [
    {
     "name": "stdout",
     "output_type": "stream",
     "text": [
      "[77, 25, 27]\n"
     ]
    }
   ],
   "source": [
    "# 16. Write a Python program to print all the numbers in a list except those are even.\n",
    "#     Data:\n",
    "#         A = [77,88, 120, 25, 44, 20, 27]\n",
    "#     Expected Output:\n",
    "#         [77, 25, 27]\n",
    "\n",
    "A = [77, 88, 120, 25, 44, 20, 27]\n",
    "result = [num for num in A if num % 2 != 0]\n",
    "\n",
    "print(result)\n",
    "        \n",
    "        \n",
    "        "
   ]
  },
  {
   "cell_type": "code",
   "execution_count": 40,
   "metadata": {},
   "outputs": [
    {
     "name": "stdout",
     "output_type": "stream",
     "text": [
      "[1, 2, 6, 24, 120]\n"
     ]
    }
   ],
   "source": [
    "# 17. Write a python program to find cumulative product of a list using list comprehension.\n",
    "#     Data:\n",
    "#         nums = [1, 2, 3, 4, 5]\n",
    "#     Expected Output:\n",
    "#         [1, 2, 6, 24, 120]\n",
    "\n",
    "nums = [1, 2, 3, 4, 5]\n",
    "prod = 1\n",
    "cumulative_products = [prod := prod * n for n in nums]\n",
    "print(cumulative_products)\n",
    "        \n",
    "        \n",
    "        \n",
    "        "
   ]
  },
  {
   "cell_type": "code",
   "execution_count": 41,
   "metadata": {},
   "outputs": [
    {
     "name": "stdout",
     "output_type": "stream",
     "text": [
      "Even numbers in the list: [2, 8, 12, 56, 8, 4]\n"
     ]
    }
   ],
   "source": [
    "# 18. Write a Python program to print all the even numbers in a list using list comprehension. \n",
    "#     Data:\n",
    "#         x = [2, 433, 65, 8, 12, 9, 7, 56, 8, 4]\n",
    "#     Expected Output:\n",
    "#         Even numbers in the list:  [2, 8, 12, 56, 8, 4]\n",
    "\n",
    "x = [2, 433, 65, 8, 12, 9, 7, 56, 8, 4]\n",
    "even_numbers = [num for num in x if num % 2 == 0]\n",
    "\n",
    "print(\"Even numbers in the list:\", even_numbers)\n",
    "            \n",
    "            \n",
    "            "
   ]
  },
  {
   "cell_type": "code",
   "execution_count": 48,
   "metadata": {},
   "outputs": [
    {
     "name": "stdout",
     "output_type": "stream",
     "text": [
      "Matrixs =  [[0, 1, 2, 3, 4], [0, 1, 2, 3, 4], [0, 1, 2, 3, 4], [0, 1, 2, 3, 4], [0, 1, 2, 3, 4], [0, 1, 2, 3, 4]]\n"
     ]
    }
   ],
   "source": [
    "# 19. Write a Python program to create a matrix which looks like below.\n",
    "#     Data:\n",
    "#         range(5 and 6)\n",
    "#     Expected Output:\n",
    "#     Matrixs =  [[0, 1, 2, 3, 4],\n",
    "#                [0, 1, 2, 3, 4],\n",
    "#                [0, 1, 2, 3, 4],\n",
    "#                [0, 1, 2, 3, 4],\n",
    "#                [0, 1, 2, 3, 4],\n",
    "#                [0, 1, 2, 3, 4]]\n",
    "\n",
    "row = list(range(5))\n",
    "matrix = [row[:] for _ in range(6)]\n",
    "\n",
    "print(\"Matrixs = \",matrix)\n",
    "    \n",
    "    \n",
    "    \n",
    "        "
   ]
  },
  {
   "cell_type": "code",
   "execution_count": 43,
   "metadata": {},
   "outputs": [
    {
     "name": "stdout",
     "output_type": "stream",
     "text": [
      "[0, 0, 0, 1, 1, 1, 2, 2, 2, 3, 3, 3]\n"
     ]
    }
   ],
   "source": [
    "# 20. Write a Python program to flatten a given list of lists.\n",
    "#     Data:\n",
    "#         matrixs = [[0, 0, 0],              \n",
    "#                    [1, 1, 1],    \n",
    "#                    [2, 2, 2],\n",
    "#                    [3, 3, 3]]  \n",
    "#     Expected Output:\n",
    "#         [0, 0, 0, 1, 1, 1, 2, 2, 2, 3, 3, 3]\n",
    "\n",
    "matrixs = [\n",
    "    [0, 0, 0],\n",
    "    [1, 1, 1],\n",
    "    [2, 2, 2],\n",
    "    [3, 3, 3]\n",
    "]\n",
    "\n",
    "flattened = [item for sublist in matrixs for item in sublist]\n",
    "print(flattened)\n",
    "        \n",
    "        \n",
    "        "
   ]
  }
 ],
 "metadata": {
  "kernelspec": {
   "display_name": "Python 3 (ipykernel)",
   "language": "python",
   "name": "python3"
  },
  "language_info": {
   "codemirror_mode": {
    "name": "ipython",
    "version": 3
   },
   "file_extension": ".py",
   "mimetype": "text/x-python",
   "name": "python",
   "nbconvert_exporter": "python",
   "pygments_lexer": "ipython3",
   "version": "3.12.7"
  }
 },
 "nbformat": 4,
 "nbformat_minor": 4
}
