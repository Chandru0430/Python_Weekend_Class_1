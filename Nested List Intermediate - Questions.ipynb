{
 "cells": [
  {
   "cell_type": "markdown",
   "metadata": {},
   "source": [
    "# Nested List Intermediate Questions"
   ]
  },
  {
   "cell_type": "code",
   "execution_count": 6,
   "metadata": {},
   "outputs": [
    {
     "name": "stdout",
     "output_type": "stream",
     "text": [
      "[0, 1, 2, 3, 4],[0, 1, 2, 3, 4],[0, 1, 2, 3, 4],[0, 1, 2, 3, 4],[0, 1, 2, 3, 4],"
     ]
    }
   ],
   "source": [
    "# 1. Write a python program to create nested list of matrix.\n",
    "#     matrix = [[0, 1, 2, 3, 4],[0, 1, 2, 3, 4],[0, 1, 2, 3, 4],[0, 1, 2, 3, 4],[0, 1, 2, 3, 4]]\n",
    "\n",
    "row = [0, 1, 2, 3, 4]\n",
    "matrix = [row[:] for _ in range(5)]\n",
    "\n",
    "for r in matrix:\n",
    "    print(r,end=\",\")\n",
    "    \n",
    "    "
   ]
  },
  {
   "cell_type": "code",
   "execution_count": 3,
   "metadata": {},
   "outputs": [
    {
     "name": "stdout",
     "output_type": "stream",
     "text": [
      "[1, 2, 3, 4, 5, 6, 7, 8, 9]\n"
     ]
    }
   ],
   "source": [
    "# 2. Write a python program to flatten a given nested list.\n",
    "#     Data:\n",
    "#         x = [[1, 2, 3], [4, 5, 6], [7, 8, 9]]\n",
    "#     Expected Output: \n",
    "#         [1, 2, 3, 4, 5, 6, 7, 8, 9]\n",
    "        \n",
    "\n",
    "x = [[1, 2, 3], [4, 5, 6], [7, 8, 9]]\n",
    "\n",
    "flattened = [item for sublist in x for item in sublist]\n",
    "\n",
    "print(flattened)\n",
    "        \n",
    "        "
   ]
  },
  {
   "cell_type": "code",
   "execution_count": 7,
   "metadata": {},
   "outputs": [
    {
     "name": "stdout",
     "output_type": "stream",
     "text": [
      "['boss', 'sai', 'kumar', 'siva', 'balu']\n"
     ]
    }
   ],
   "source": [
    "# 3. Write a python program to flatten a given 2-D list and only include those strings whose length are less than 6.\n",
    "#     Data:\n",
    "#         name = [[\"boss\", \"suresh\", \"karthi\"], [\"dinesh\", \"sai\", \"kumar\"], [\"murugan\", \"siva\", \"balu\"]]\n",
    "#     Expected Output:\n",
    "#         ['boss', 'sai', 'kumar', 'siva', 'balu']\n",
    "        \n",
    "        \n",
    "\n",
    "name = [[\"boss\", \"suresh\", \"karthi\"], [\"dinesh\", \"sai\", \"kumar\"], [\"murugan\", \"siva\", \"balu\"]]\n",
    "\n",
    "result = [item for sublist in name for item in sublist if len(item) < 6]\n",
    "\n",
    "print(result)\n",
    "        "
   ]
  },
  {
   "cell_type": "code",
   "execution_count": 10,
   "metadata": {},
   "outputs": [
    {
     "name": "stdout",
     "output_type": "stream",
     "text": [
      "['suresh']\n",
      "['boss']\n",
      "['kumar']\n"
     ]
    }
   ],
   "source": [
    "# 4. Write a Python program to print a nested list, each list in a new line.\n",
    "#     Data:\n",
    "#         name = [['suresh'], ['boss'], ['kumar']]\n",
    "#     Expected Output:\n",
    "#         ['suresh']\n",
    "#         ['boss']\n",
    "#         ['kumar']\n",
    "        \n",
    "name = [['suresh'], ['boss'], ['kumar']]\n",
    "\n",
    "for item in name:\n",
    "    print(item)\n",
    "        \n",
    "        \n",
    "        "
   ]
  },
  {
   "cell_type": "code",
   "execution_count": 11,
   "metadata": {},
   "outputs": [
    {
     "name": "stdout",
     "output_type": "stream",
     "text": [
      "[['a', 'd', 'g', 'j', 'm'], ['b', 'e', 'h', 'k', 'n'], ['c', 'f', 'i', 'l']]\n"
     ]
    }
   ],
   "source": [
    "# 5. Write a Python program to split a list after every nth element.\n",
    "#     Data:\n",
    "#         ['a', 'b', 'c', 'd', 'e', 'f', 'g', 'h', 'i', 'j', 'k', 'l', 'm', 'n']\n",
    "#     Expected Output:\n",
    "#         [['a', 'd', 'g', 'j', 'm'], ['b', 'e', 'h', 'k', 'n'], ['c', 'f', 'i', 'l']]\n",
    "\n",
    "data = ['a', 'b', 'c', 'd', 'e', 'f', 'g', 'h', 'i', 'j', 'k', 'l', 'm', 'n']\n",
    "n = 3\n",
    "\n",
    "result = [data[i::n] for i in range(n)]\n",
    "print(result)\n",
    "        \n",
    "        \n",
    "        \n",
    "        "
   ]
  },
  {
   "cell_type": "code",
   "execution_count": 12,
   "metadata": {},
   "outputs": [
    {
     "name": "stdout",
     "output_type": "stream",
     "text": [
      "[10, 11, 12]\n"
     ]
    }
   ],
   "source": [
    "# 6. Write a Python program to find the list in a list of lists whose sum of elements is the highest. \n",
    "#     Data:\n",
    "#         [1,2,3], [4,5,6], [7,8,9], [10,11,12]\n",
    "#     Expected Output: \n",
    "#         [10, 11, 12]\n",
    "\n",
    "data = [\n",
    "    [1, 2, 3],\n",
    "    [4, 5, 6],\n",
    "    [7, 8, 9],\n",
    "    [10, 11, 12]\n",
    "]\n",
    "\n",
    "max_sum_list = max(data, key=sum)\n",
    "\n",
    "print(max_sum_list)\n",
    "        \n",
    "        \n",
    "        "
   ]
  },
  {
   "cell_type": "code",
   "execution_count": 13,
   "metadata": {},
   "outputs": [
    {
     "name": "stdout",
     "output_type": "stream",
     "text": [
      "[[10, 20], [40], [30, 56, 25], [33]]\n"
     ]
    }
   ],
   "source": [
    "# 7. Write a Python program to remove duplicates from a list of lists. \n",
    "#     Data: \n",
    "#         [[10, 20], [40], [30, 56, 25], [10, 20], [33], [40]]\n",
    "#     Expected Output: \n",
    "#         [[10, 20], [30, 56, 25], [33], [40]]\n",
    "\n",
    "data = [[10, 20], [40], [30, 56, 25], [10, 20], [33], [40]]\n",
    "\n",
    "seen = set()\n",
    "result = []\n",
    "for sublist in data:\n",
    "    t = tuple(sublist)\n",
    "    if t not in seen:\n",
    "        result.append(sublist)\n",
    "        seen.add(t)\n",
    "\n",
    "print(result)\n",
    "        \n",
    "        \n",
    "        \n",
    "        "
   ]
  },
  {
   "cell_type": "code",
   "execution_count": 14,
   "metadata": {},
   "outputs": [
    {
     "name": "stdout",
     "output_type": "stream",
     "text": [
      "[[0, 0], [0, 0], [0, 0]]\n"
     ]
    }
   ],
   "source": [
    "# 8. Write a Python program to create a multidimensional list (list of lists) with zeros.\n",
    "#     Expected Output:\n",
    "#         [[0, 0], [0, 0], [0, 0]]\n",
    "\n",
    "rows = 3\n",
    "cols = 2\n",
    "matrix = [[0 for _ in range(cols)] for _ in range(rows)]\n",
    "print(matrix)\n",
    "        \n",
    "        \n",
    "        \n",
    "        "
   ]
  },
  {
   "cell_type": "code",
   "execution_count": 15,
   "metadata": {},
   "outputs": [
    {
     "name": "stdout",
     "output_type": "stream",
     "text": [
      "[[1, 2, 3], [1, 2, 3], [1, 2, 3]]\n"
     ]
    }
   ],
   "source": [
    "# 9. Write a Python program to create a 3X3 grid with numbers which is a nested list.\n",
    "#     Expected Output:\n",
    "#         [[1, 2, 3], [1, 2, 3], [1, 2, 3]]\n",
    "\n",
    "grid = [[1, 2, 3] for _ in range(3)]\n",
    "print(grid)\n",
    "        \n",
    "        \n",
    "        \n",
    "        "
   ]
  },
  {
   "cell_type": "code",
   "execution_count": 16,
   "metadata": {},
   "outputs": [
    {
     "name": "stdout",
     "output_type": "stream",
     "text": [
      "[[1, 3, 2, 4], [5, 7, 6, 8], [9, 11, 10, 12, 14]]\n"
     ]
    }
   ],
   "source": [
    "# 10. Write a Python program to Zip two given list of lists into a single nested list. \n",
    "#      Data:\n",
    "#         [[1, 3], [5, 7], [9, 11]]\n",
    "#         [[2, 4], [6, 8], [10, 12, 14]]\n",
    "#     Expected Output:\n",
    "#         [[1, 3, 2, 4], [5, 7, 6, 8], [9, 11, 10, 12, 14]]\n",
    "\n",
    "list1 = [[1, 3], [5, 7], [9, 11]]\n",
    "list2 = [[2, 4], [6, 8], [10, 12, 14]]\n",
    "\n",
    "result = [a + b for a, b in zip(list1, list2)]\n",
    "\n",
    "print(result)\n",
    "        \n",
    "        \n",
    "        \n",
    "        "
   ]
  }
 ],
 "metadata": {
  "kernelspec": {
   "display_name": "Python 3 (ipykernel)",
   "language": "python",
   "name": "python3"
  },
  "language_info": {
   "codemirror_mode": {
    "name": "ipython",
    "version": 3
   },
   "file_extension": ".py",
   "mimetype": "text/x-python",
   "name": "python",
   "nbconvert_exporter": "python",
   "pygments_lexer": "ipython3",
   "version": "3.12.7"
  }
 },
 "nbformat": 4,
 "nbformat_minor": 4
}
