{
 "cells": [
  {
   "cell_type": "markdown",
   "metadata": {},
   "source": [
    "# List Intermediate - Questions"
   ]
  },
  {
   "cell_type": "code",
   "execution_count": 1,
   "metadata": {},
   "outputs": [
    {
     "name": "stdout",
     "output_type": "stream",
     "text": [
      "2\n"
     ]
    }
   ],
   "source": [
    "''' 1. Write a Python program to count the number of strings where the string length is 2 or more and\n",
    "            the first and last characters of a string are same from the given data.\n",
    "        Data:\n",
    "            ['abc', 'xyz', 'aba', '1221']\n",
    "        Expected Output:\n",
    "            2 '''\n",
    "\n",
    "data = ['abc', 'xyz', 'aba', '1221']\n",
    "count = 0\n",
    "\n",
    "for string in data:\n",
    "    if len(string) >= 2 and string[0] == string[-1]:\n",
    "        count += 1\n",
    "\n",
    "print(count)\n",
    "       \n",
    "        "
   ]
  },
  {
   "cell_type": "code",
   "execution_count": 3,
   "metadata": {},
   "outputs": [
    {
     "name": "stdout",
     "output_type": "stream",
     "text": [
      "['quick', 'brown', 'jumps', 'over', 'lazy']\n"
     ]
    }
   ],
   "source": [
    "''' 2. Write a Python function to find the list of words which are longer than the specified length from the given data.\n",
    "        Data:\n",
    "            (3, \"The quick brown fox jumps over the lazy dog\")\n",
    "        Expected Output:\n",
    "            ['quick', 'brown', 'jumps', 'over', 'lazy'] '''\n",
    "\n",
    "def words_longer_than(length_and_sentence):\n",
    "    length, sentence = length_and_sentence\n",
    "    words = sentence.split()\n",
    "    result = [word for word in words if len(word) > length]\n",
    "    return result\n",
    "\n",
    "data = (3, \"The quick brown fox jumps over the lazy dog\")\n",
    "print(words_longer_than(data))\n",
    "        \n",
    "        "
   ]
  },
  {
   "cell_type": "code",
   "execution_count": 4,
   "metadata": {},
   "outputs": [
    {
     "name": "stdout",
     "output_type": "stream",
     "text": [
      "True\n",
      "None\n"
     ]
    }
   ],
   "source": [
    "''' 3. Write a Python function that takes two parameters as lists and returns True if they have at least one common element.\n",
    "        Data:\n",
    "            (a, b) = ([1,2,2,4,5], [5,6,6,8,9])\n",
    "            (a, b) = ([1,2,3,5,5], [6,7,9,9])\n",
    "        Expected Output:\n",
    "            True \n",
    "            None '''\n",
    "\n",
    "def have_common_element(list1, list2):\n",
    "    set1 = set(list1)\n",
    "    set2 = set(list2)\n",
    "    if set1 & set2:\n",
    "        return True\n",
    "    else:\n",
    "        return None\n",
    "\n",
    "a, b = [1,2,2,4,5], [5,6,6,8,9]\n",
    "print(have_common_element(a, b)) \n",
    "\n",
    "a, b = [1,2,3,5,5], [6,7,9,9]\n",
    "print(have_common_element(a, b)) \n",
    "       \n",
    "                "
   ]
  },
  {
   "cell_type": "code",
   "execution_count": 6,
   "metadata": {},
   "outputs": [],
   "source": [
    "# 4. Write a Python program to generate a 3*4*6 3D array whose each element is '*'. \n",
    "\n",
    "#Need help on this"
   ]
  },
  {
   "cell_type": "code",
   "execution_count": 7,
   "metadata": {},
   "outputs": [
    {
     "name": "stdout",
     "output_type": "stream",
     "text": [
      "Squares of first 5 numbers between 1 to 30: [1, 4, 9, 16, 25]\n",
      "Squares of last 5 numbers between 1 to 30: [676, 729, 784, 841, 900]\n"
     ]
    }
   ],
   "source": [
    "''' 5. Write a Python program to generate and print a list of first and last 5 elements where the values are square of numbers \n",
    "       between 1 and 30 (both included).\n",
    "    Data:\n",
    "        range(1, 31) \n",
    "    Expected Output:\n",
    "        Squares of first 5 numbers between 1 to 30: [1, 4, 9, 16, 25]\n",
    "        Squares of last 5 numbers between 1 to 30: [676, 729, 784, 841, 900] '''\n",
    "\n",
    "squares = [x**2 for x in range(1, 31)]\n",
    "first_five = squares[:5]\n",
    "\n",
    "last_five = squares[-5:]\n",
    "\n",
    "print(\"Squares of first 5 numbers between 1 to 30:\", first_five)\n",
    "print(\"Squares of last 5 numbers between 1 to 30:\", last_five)\n",
    "        \n",
    "        \n",
    "        "
   ]
  },
  {
   "cell_type": "code",
   "execution_count": 9,
   "metadata": {},
   "outputs": [
    {
     "name": "stdout",
     "output_type": "stream",
     "text": [
      "-2\n"
     ]
    }
   ],
   "source": [
    "''' 6. Write a Python program to find the second smallest number in a list.\n",
    "        Data:\n",
    "            lt = [1, 2, -8, -2, 0, -2]\n",
    "        Expected output:\n",
    "            -2 '''\n",
    "\n",
    "lt = [1, 2, -8, -2, 0, -2]\n",
    "\n",
    "unique_lt = sorted(set(lt))\n",
    "\n",
    "if len(unique_lt) >= 2:\n",
    "    second_smallest = unique_lt[1]\n",
    "    print(second_smallest)\n",
    "else:\n",
    "    print(\"List does not have a second smallest unique number.\")\n"
   ]
  },
  {
   "cell_type": "code",
   "execution_count": 10,
   "metadata": {},
   "outputs": [
    {
     "name": "stdout",
     "output_type": "stream",
     "text": [
      "4\n"
     ]
    }
   ],
   "source": [
    "''' 7. Write a Python program to find the second largest number in a list.\n",
    "        Data:\n",
    "            lt = [1, 2, 3, 5, 4]\n",
    "        Expected output:\n",
    "            4 '''\n",
    "\n",
    "lt = [1, 2, 3, 5, 4]\n",
    "\n",
    "first = second = float('-inf')\n",
    "for num in lt:\n",
    "    if num > first:\n",
    "        second = first\n",
    "        first = num\n",
    "    elif first > num > second:\n",
    "        second = num\n",
    "\n",
    "print(second)\n",
    "\n"
   ]
  },
  {
   "cell_type": "code",
   "execution_count": 11,
   "metadata": {},
   "outputs": [
    {
     "name": "stdout",
     "output_type": "stream",
     "text": [
      "Frequency of the elements in the List : Counter({10: 4, 20: 3, 30: 2, 40: 2, 50: 2})\n"
     ]
    }
   ],
   "source": [
    "''' 8. Write a Python program to get the frequency of the elements in a list and \n",
    "            print the occurances as a list of dictionary as shown in the expected output.\n",
    "        Data:\n",
    "            Original List :  [10, 10, 10, 10, 20, 20, 20, 30, 40, 40, 50, 50, 30]\n",
    "        Expected Output:\n",
    "            Frequency of the elements in the List :  Counter({10: 4, 20: 3, 30: 2, 40: 2, 50: 2}) '''\n",
    "\n",
    "from collections import Counter\n",
    "data = [10, 10, 10, 10, 20, 20, 20, 30, 40, 40, 50, 50, 30]\n",
    "frequency = Counter(data)\n",
    "print(\"Frequency of the elements in the List :\", frequency)\n",
    "            \n",
    "            "
   ]
  },
  {
   "cell_type": "code",
   "execution_count": 12,
   "metadata": {},
   "outputs": [
    {
     "name": "stdout",
     "output_type": "stream",
     "text": [
      "True\n",
      "False\n"
     ]
    }
   ],
   "source": [
    "''' 9. Write a Python program to check whether a list contains a sublist or not. Return True if present, false if not.\n",
    "        Data:\n",
    "            a = [2,4,3,5,7]\n",
    "            sublist1 = [4,3]\n",
    "            sublist2 = [3,7]\n",
    "        Expected Output:\n",
    "            True\n",
    "            False '''\n",
    "\n",
    "def contains_sublist(main_list, sublist):\n",
    "    n = len(sublist)\n",
    "    if n == 0:\n",
    "        return True\n",
    "    for i in range(len(main_list) - n + 1):\n",
    "        if main_list[i:i+n] == sublist:\n",
    "            return True\n",
    "    return False\n",
    "\n",
    "a = [2, 4, 3, 5, 7]\n",
    "sublist1 = [4, 3]\n",
    "sublist2 = [3, 7]\n",
    "\n",
    "print(contains_sublist(a, sublist1))  \n",
    "print(contains_sublist(a, sublist2)) \n",
    "        \n",
    "        "
   ]
  },
  {
   "cell_type": "code",
   "execution_count": 13,
   "metadata": {},
   "outputs": [
    {
     "name": "stdout",
     "output_type": "stream",
     "text": [
      "[[], [10], [20], [30], [40], [10, 20], [10, 30], [10, 40], [20, 30], [20, 40], [30, 40], [10, 20, 30], [10, 20, 40], [10, 30, 40], [20, 30, 40], [10, 20, 30, 40]]\n",
      "[[], ['X'], ['Y'], ['Z'], ['X', 'Y'], ['X', 'Z'], ['Y', 'Z'], ['X', 'Y', 'Z']]\n"
     ]
    }
   ],
   "source": [
    "''' 10. Write a Python program to generate all sublists of a list.\n",
    "        Data:\n",
    "            l1 = [10, 20, 30, 40]\n",
    "            l2 = ['X', 'Y', 'Z']\n",
    "        Expected Output:\n",
    "            [[], [1], [2], [1, 2], [3], [1, 3], [2, 3], [1, 2, 3]]\n",
    "            [[], ['X'], ['Y'], ['X', 'Y'], ['Z'], ['X', 'Z'], ['Y', 'Z'], ['X', 'Y', 'Z']] '''\n",
    "\n",
    "from itertools import chain, combinations\n",
    "\n",
    "def all_sublists(lst):\n",
    "    return [list(sublist) for sublist in chain.from_iterable(combinations(lst, r) for r in range(len(lst)+1))]\n",
    "\n",
    "l1 = [10, 20, 30, 40]\n",
    "l2 = ['X', 'Y', 'Z']\n",
    "\n",
    "print(all_sublists(l1))\n",
    "print(all_sublists(l2))\n",
    "        \n"
   ]
  },
  {
   "cell_type": "code",
   "execution_count": 14,
   "metadata": {},
   "outputs": [
    {
     "name": "stdout",
     "output_type": "stream",
     "text": [
      "2\n",
      "3\n",
      "5\n",
      "7\n",
      "None\n"
     ]
    }
   ],
   "source": [
    "''' 11. Write a Python program to print all the prime numbers upto a specified number using Sieve of Eratosthenes method.\n",
    "        Data:\n",
    "            nums(10)\n",
    "        Expected Output:\n",
    "            2\n",
    "            3\n",
    "            5\n",
    "            7\n",
    "            None '''\n",
    "\n",
    "nums = 10\n",
    "\n",
    "is_prime = [True] * (nums + 1)\n",
    "is_prime[0] = is_prime[1] = False\n",
    "\n",
    "for i in range(2, int(nums**0.5) + 1):\n",
    "    if is_prime[i]:\n",
    "        for j in range(i*i, nums + 1, i):\n",
    "            is_prime[j] = False\n",
    "\n",
    "for i in range(2, nums + 1):\n",
    "    if is_prime[i]:\n",
    "        print(i)\n",
    "\n",
    "print(None)\n",
    "\n",
    "     "
   ]
  },
  {
   "cell_type": "code",
   "execution_count": 15,
   "metadata": {},
   "outputs": [
    {
     "name": "stdout",
     "output_type": "stream",
     "text": [
      "['l1', 'm1', 'l2', 'm2', 'l3', 'm3', 'l4', 'm4']\n"
     ]
    }
   ],
   "source": [
    "''' 12. Write a Python program to create a list by concatenating a given list which ranges from 1 to n.\n",
    "        Data:\n",
    "            list:['l', 'm']\n",
    "            n = 4\n",
    "        Expected Output:\n",
    "            ['l1', 'm1', 'l2', 'm2', 'l3', 'm3', 'l4', 'm4'] '''\n",
    "\n",
    "lst = ['l', 'm']\n",
    "n = 4\n",
    "\n",
    "result = [x + str(i) for i in range(1, n+1) for x in lst]\n",
    "\n",
    "print(result)\n",
    "\n",
    "        "
   ]
  },
  {
   "cell_type": "code",
   "execution_count": 16,
   "metadata": {},
   "outputs": [
    {
     "name": "stdout",
     "output_type": "stream",
     "text": [
      "[1, 0, 3, 2, 5, 4, 7, 6]\n"
     ]
    }
   ],
   "source": [
    "''' 13. Write a Python program to change the position of every n-th value with the (n+1)th in a list.\n",
    "        Data:\n",
    "            list:[0, 1, 2, 3, 4, 5, 6, 7]\n",
    "        Expected Output:\n",
    "            [1, 0, 3, 2, 5, 4, 7, 6] '''\n",
    "        \n",
    "\n",
    "lst = [0, 1, 2, 3, 4, 5, 6, 7]\n",
    "\n",
    "for i in range(0, len(lst) - 1, 2):\n",
    "    lst[i], lst[i+1] = lst[i+1], lst[i]\n",
    "\n",
    "print(lst)\n",
    "        \n",
    "        "
   ]
  },
  {
   "cell_type": "code",
   "execution_count": 17,
   "metadata": {},
   "outputs": [
    {
     "name": "stdout",
     "output_type": "stream",
     "text": [
      "Sorted Unique Data: [1, 2, 3, 4, 5, 6, 7, 8, 9, 10]\n"
     ]
    }
   ],
   "source": [
    "''' 14. Write a Python program to convert a pair of values into a sorted unique array.\n",
    "        Data:\n",
    "            List:  [(1, 2), (3, 4), (5, 6), (7, 8), (1, 2), (3, 4), (7, 8), (7, 8), (9, 10)]   \n",
    "        Expected Output:\n",
    "            Sorted Unique Data: [1, 2, 3, 4, 5, 6, 7, 8, 9, 10] '''\n",
    "\n",
    "data = [(1, 2), (3, 4), (5, 6), (7, 8), (1, 2), (3, 4), (7, 8), (7, 8), (9, 10)]\n",
    "\n",
    "flattened = [num for pair in data for num in pair]\n",
    "\n",
    "unique_numbers = set(flattened)\n",
    "\n",
    "sorted_unique = sorted(unique_numbers)\n",
    "\n",
    "print(\"Sorted Unique Data:\", sorted_unique)\n",
    "                      \n",
    "            "
   ]
  },
  {
   "cell_type": "code",
   "execution_count": 18,
   "metadata": {},
   "outputs": [
    {
     "name": "stdout",
     "output_type": "stream",
     "text": [
      "Sorted List:\n",
      "[{'Book': {'Novel': 'Alchemist'}}, {'Book': {'Novel': 'Hamlet'}}, {'Book': {'Novel': 'Sherlock Homes'}}]\n"
     ]
    }
   ],
   "source": [
    "''' 15. Write a Python program to sort a list of nested dictionaries.\n",
    "        Data:\n",
    "            Original List: \n",
    "                x = [{'Book': {'Novel': 'Hamlet'}}, {'Book': {'Novel': 'Sherlock Homes'}}, {'Book': {'Novel': 'Alchemist'}}]\n",
    "        Expected Output:\n",
    "            Sorted List: \n",
    "                [{'Book': {'Novel': 'Alchemist'}}, {'Book': {'Novel': 'Hamlet'}}, {'Book': {'Novel': 'Sherlock Homes'}}] '''\n",
    "\n",
    "x = [\n",
    "    {'Book': {'Novel': 'Hamlet'}},\n",
    "    {'Book': {'Novel': 'Sherlock Homes'}},\n",
    "    {'Book': {'Novel': 'Alchemist'}}\n",
    "]\n",
    "\n",
    "sorted_x = sorted(x, key=lambda d: d['Book']['Novel'])\n",
    "\n",
    "print(\"Sorted List:\")\n",
    "print(sorted_x)\n",
    "        \n",
    "        "
   ]
  },
  {
   "cell_type": "code",
   "execution_count": 19,
   "metadata": {},
   "outputs": [
    {
     "name": "stdout",
     "output_type": "stream",
     "text": [
      "Unique List [[10, 30], [10, 20], [30, 56, 23], [33], [40]]\n"
     ]
    }
   ],
   "source": [
    "''' 16. Write a Python program to remove duplicates from a list of lists.\n",
    "        Data:\n",
    "            Original List [[10, 30], [40], [30, 56, 23], [10, 20], [33], [40]]\n",
    "        Expected Output:\n",
    "            Unique List [[10, 20], [10, 30], [30, 56, 23], [33], [40]] '''\n",
    "\n",
    "original_list = [[10, 30], [40], [30, 56, 23], [10, 20], [33], [40]]\n",
    "\n",
    "unique_tuples = {tuple(sublist) for sublist in original_list}\n",
    "\n",
    "unique_lists = [list(t) for t in unique_tuples]\n",
    "\n",
    "unique_lists.sort(key=lambda x: x[0])\n",
    "\n",
    "print(\"Unique List\", unique_lists)\n",
    "\n",
    "        "
   ]
  },
  {
   "cell_type": "code",
   "execution_count": 20,
   "metadata": {},
   "outputs": [
    {
     "name": "stdout",
     "output_type": "stream",
     "text": [
      "True\n",
      "False\n"
     ]
    }
   ],
   "source": [
    "''' 17. Write a Python program to check whether all dictionaries in a list are empty or not.\n",
    "        Data:\n",
    "            x = [{},{},{}]\n",
    "            y = [{1,2},{},{}]\n",
    "        Expected Output:\n",
    "            True\n",
    "            False ''' \n",
    "\n",
    "def all_dicts_empty(lst):\n",
    "    return all(not d for d in lst)\n",
    "\n",
    "x = [{},{},{}]\n",
    "y = [{1,2},{},{}]\n",
    "\n",
    "print(all_dicts_empty(x))  \n",
    "print(all_dicts_empty(y))\n",
    "        \n",
    "        "
   ]
  },
  {
   "cell_type": "code",
   "execution_count": 21,
   "metadata": {},
   "outputs": [
    {
     "name": "stdout",
     "output_type": "stream",
     "text": [
      "Flat list: [0, 20, 30, 30, 40, 50, 60, 40, 80, 90, 100, 10, 119]\n"
     ]
    }
   ],
   "source": [
    "''' 18. Write a Python program to convert a nested list into a flat list.\n",
    "        Data:\n",
    "            lt = [0, 20, [30, 30], 40, 50, [60, 40, 80], [90, 100, 10, 119]]\n",
    "        Expected Output:\n",
    "            Flat list:[0, 20, 30, 30, 40, 50, 60, 40, 80, 90, 100, 10, 119] '''\n",
    "\n",
    "def flatten_list(nested_list):\n",
    "    flat_list = []\n",
    "    for item in nested_list:\n",
    "        if isinstance(item, list):\n",
    "            flat_list.extend(flatten_list(item))\n",
    "        else:\n",
    "            flat_list.append(item)\n",
    "    return flat_list\n",
    "\n",
    "lt = [0, 20, [30, 30], 40, 50, [60, 40, 80], [90, 100, 10, 119]]\n",
    "result = flatten_list(lt)\n",
    "print(\"Flat list:\", result)\n",
    "            \n",
    "    "
   ]
  },
  {
   "cell_type": "code",
   "execution_count": 22,
   "metadata": {},
   "outputs": [
    {
     "name": "stdout",
     "output_type": "stream",
     "text": [
      "After removing consecutive duplicates:\n",
      "[0, 1, 2, 3, 5, 4, 5, 6, 7, 8, 4]\n"
     ]
    }
   ],
   "source": [
    "''' 19. Write a Python program to remove only the consecutive duplicates from given list.\n",
    "        Data:\n",
    "            lt = [0, 1, 1, 2, 3, 5, 4, 5, 6, 6, 7, 7, 8, 4, 4, 4]\n",
    "        Expected Output:\n",
    "            After removing consecutive duplicates:\n",
    "                [0, 1, 2, 3, 5, 4, 5, 6, 7, 8, 4] '''\n",
    "\n",
    "lt = [0, 1, 1, 2, 3, 5, 4, 5, 6, 6, 7, 7, 8, 4, 4, 4]\n",
    "\n",
    "result = []\n",
    "for item in lt:\n",
    "    if not result or item != result[-1]:\n",
    "        result.append(item)\n",
    "\n",
    "print(\"After removing consecutive duplicates:\")\n",
    "print(result)\n",
    "        \n",
    "    "
   ]
  },
  {
   "cell_type": "code",
   "execution_count": 23,
   "metadata": {},
   "outputs": [
    {
     "name": "stdout",
     "output_type": "stream",
     "text": [
      "After packing consecutive duplicates of the said list elements into sublists:\n",
      "[[1], [0], [1], [2], [3], [4, 4], [5, 5], [6, 6], [7], [8], [9], [4, 4]]\n"
     ]
    }
   ],
   "source": [
    "''' 20. Write a Python program to pack consecutive duplicates of a given list into sublists.\n",
    "        Data:\n",
    "            Original list:\n",
    "            [1, 0, 1, 2, 3, 4, 4, 5, 5, 6, 6, 7, 8, 9, 4, 4]\n",
    "        Expected Output:\n",
    "            After packing consecutive duplicates of the said list elements into sublists:\n",
    "                [[1], [0], [1], [2], [3], [4, 4], [5, 5], [6, 6], [7], [8], [9], [4, 4]] '''\n",
    "\n",
    "def pack_consecutive_duplicates(lst):\n",
    "    if not lst:\n",
    "        return []\n",
    "    packed = []\n",
    "    current = [lst[0]]\n",
    "    for item in lst[1:]:\n",
    "        if item == current[-1]:\n",
    "            current.append(item)\n",
    "        else:\n",
    "            packed.append(current)\n",
    "            current = [item]\n",
    "    packed.append(current)  \n",
    "    return packed\n",
    "\n",
    "original_list = [1, 0, 1, 2, 3, 4, 4, 5, 5, 6, 6, 7, 8, 9, 4, 4]\n",
    "result = pack_consecutive_duplicates(original_list)\n",
    "print(\"After packing consecutive duplicates of the said list elements into sublists:\")\n",
    "print(result)\n",
    "        \n",
    "        \n",
    "        \n",
    "        "
   ]
  }
 ],
 "metadata": {
  "kernelspec": {
   "display_name": "Python 3 (ipykernel)",
   "language": "python",
   "name": "python3"
  },
  "language_info": {
   "codemirror_mode": {
    "name": "ipython",
    "version": 3
   },
   "file_extension": ".py",
   "mimetype": "text/x-python",
   "name": "python",
   "nbconvert_exporter": "python",
   "pygments_lexer": "ipython3",
   "version": "3.12.7"
  }
 },
 "nbformat": 4,
 "nbformat_minor": 4
}
