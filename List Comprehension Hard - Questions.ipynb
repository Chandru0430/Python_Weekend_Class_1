{
 "cells": [
  {
   "cell_type": "markdown",
   "metadata": {},
   "source": [
    "# List Comprehension Hard Questions"
   ]
  },
  {
   "cell_type": "code",
   "execution_count": 1,
   "metadata": {},
   "outputs": [
    {
     "name": "stdout",
     "output_type": "stream",
     "text": [
      "New list (comprehension): [{'key2': 'value2'}, {'key2': 'value4'}]\n"
     ]
    }
   ],
   "source": [
    "# 1. Write a Python program to remove key values pairs from a list of dictionaries.\n",
    "#     Data:\n",
    "#         Original List:  [{'key1': 'value1', 'key2': 'value2'}, {'key1': 'value3', 'key2': 'value4'}]\n",
    "#         New List:  [{'key2': 'value2'}, {'key2': 'value4'}]\n",
    "        \n",
    "\n",
    "\n",
    "original_list = [\n",
    "    {'key1': 'value1', 'key2': 'value2'},\n",
    "    {'key1': 'value3', 'key2': 'value4'}\n",
    "]\n",
    "new_list_comprehension = [\n",
    "    {k: v for k, v in d.items() if k != 'key1'}\n",
    "    for d in original_list\n",
    "]\n",
    "print(\"New list (comprehension):\", new_list_comprehension)"
   ]
  },
  {
   "cell_type": "code",
   "execution_count": 3,
   "metadata": {},
   "outputs": [
    {
     "name": "stdout",
     "output_type": "stream",
     "text": [
      "Original list: ['neutron', 'iron', 'proton', 'neuron', 'photon', 'photosynthesis', 'calcium', 'copper', 'carbon']\n",
      "Items start with c from the said list: ['calcium', 'copper', 'carbon']\n",
      "Items start with p from the said list: ['proton', 'photon', 'photosynthesis']\n",
      "Items start with m from the said list: []\n"
     ]
    }
   ],
   "source": [
    "# 2. Write a Python program to get the values starting with a specified letter from the list.\n",
    "#     Data:\n",
    "#         lists:['neutron', 'iron', 'proton', 'neuron', 'photon', 'photosynthesis', 'calcium', 'copper', 'carbon'] \n",
    "#     Expected Output:\n",
    "#         Original list: ['neutron', 'iron', 'proton', 'neuron', 'photon', 'photosynthesis', 'calcium', 'copper', 'carbon']\n",
    "#         Items start with c from the said list: ['calcium', 'copper', 'carbon']\n",
    "#         Items start with p from the said list: ['proton', 'photon', 'photosynthesis']\n",
    "#         Items start with m from the said list: []       \n",
    "        \n",
    "\n",
    "def filter_by_letter(items, letter):\n",
    "    return [item for item in items if item.startswith(letter)]\n",
    "elements = ['neutron', 'iron', 'proton', 'neuron',\n",
    "            'photon', 'photosynthesis',\n",
    "            'calcium', 'copper', 'carbon']\n",
    "print(\"Original list:\", elements)\n",
    "\n",
    "for letter in ['c', 'p', 'm']:\n",
    "    matched = filter_by_letter(elements, letter)\n",
    "    print(f\"Items start with {letter} from the said list: {matched}\")\n",
    "        "
   ]
  },
  {
   "cell_type": "code",
   "execution_count": 4,
   "metadata": {},
   "outputs": [
    {
     "name": "stdout",
     "output_type": "stream",
     "text": [
      "After packing consecutive duplicates:\n",
      "[[10], [0], [11], [2], [3], [4], [44], [5], [6, 6, 6], [7], [8], [9], [4, 4]]\n"
     ]
    }
   ],
   "source": [
    "# 3. Write a Python program to pack consecutive duplicates of a given list elements into sublists.\n",
    "#     Data:\n",
    "#         list:[10, 0, 11, 2, 3, 4, 44, 5, 6, 6, 6, 7, 8, 9, 4, 4]\n",
    "#     Expected Output:\n",
    "#         After packing consecutive duplicates of the said list elements into sublists:\n",
    "#         [[10], [0], [11], [2], [3], [4], [44], [5], [6, 6, 6], [7], [8], [9], [4, 4]]\n",
    "        \n",
    "        \n",
    "\n",
    "from itertools import groupby\n",
    "data = [10, 0, 11, 2, 3, 4, 44, 5, 6, 6, 6, 7, 8, 9, 4, 4]\n",
    "packed = [list(group) for key, group in groupby(data)]\n",
    "\n",
    "print(\"After packing consecutive duplicates:\")\n",
    "print(packed)\n",
    "        "
   ]
  },
  {
   "cell_type": "code",
   "execution_count": 5,
   "metadata": {},
   "outputs": [
    {
     "name": "stdout",
     "output_type": "stream",
     "text": [
      "[[1, 9], [1, 1], [1, 2], [1, 4], [1, 3], [1, 4.3], [1, 5], [1, 1]]\n",
      "[[1, 'm'], [1, 'a'], [1, 'r'], [1, 'v'], [1, 'e'], [1, 'l'], [1, 'b'], [1, 'o'], [2, 's']]\n"
     ]
    }
   ],
   "source": [
    "# 4. Write a Python program to create a list reflecting the run-length encoding from a given list of integers or characters. \n",
    "#     Data:\n",
    "#         list:[9, 1, 2, 4, 3, 4.3, 5, 1]\n",
    "#         String: \"marvelboss\"\n",
    "#     Expected Output:\n",
    "#         List reflecting the run-length encoding from the said:\n",
    "#         [[1, 9], [1, 1], [1, 2], [1, 4], [1, 3], [1, 4.3], [1, 5], [1, 1]]\n",
    "#         [[1, 'M'], [1, 'a'], [1, 'r'], [1, 'v'], [1, 'e'], [1, 'l'], [1, 'b'], [1, 'o'], [2, 's']]\n",
    "        \n",
    "\n",
    "from itertools import groupby\n",
    "def run_length_encode(seq):\n",
    "    return [[len(list(group)), key] for key, group in groupby(seq)]\n",
    "data_list = [9, 1, 2, 4, 3, 4.3, 5, 1]\n",
    "print(run_length_encode(data_list))\n",
    "s = \"marvelboss\"\n",
    "print(run_length_encode(s))\n",
    "        \n",
    "        "
   ]
  },
  {
   "cell_type": "code",
   "execution_count": 6,
   "metadata": {},
   "outputs": [
    {
     "name": "stdout",
     "output_type": "stream",
     "text": [
      "Decode a run-length encoded said list:\n",
      "[1, 1, 2, 3, 4, 4, 5, 1]\n"
     ]
    }
   ],
   "source": [
    "# 5. Write a Python program to decode a run-length encoded given list. \n",
    "#     Data:\n",
    "#         list:[[2, 1], 2, 3, [2, 4], 5, 1]\n",
    "#     Expected Output:\n",
    "#         Decode a run-length encoded said list:\n",
    "#         [1, 1, 2, 3, 4, 4, 5, 1]\n",
    "\n",
    "encoded = [[2, 1], 2, 3, [2, 4], 5, 1]\n",
    "\n",
    "decoded = [\n",
    "    x\n",
    "    for item in encoded\n",
    "    for x in ( [item[1]] * item[0] if isinstance(item, list) else [item] )\n",
    "]\n",
    "\n",
    "print(\"Decode a run-length encoded said list:\")\n",
    "print(decoded)\n",
    "        \n",
    "        \n",
    "        \n",
    "        "
   ]
  },
  {
   "cell_type": "code",
   "execution_count": 7,
   "metadata": {},
   "outputs": [
    {
     "name": "stdout",
     "output_type": "stream",
     "text": [
      "Original list: [[4], [10], [1, 4, 3], [0, 1, 5, 3, 6, 7], [9, 11], [13, 14, 15, 17]]\n",
      "After removing sublists that contain an element outside the range (13, 17):\n",
      "[[13, 14, 15, 17]]\n"
     ]
    }
   ],
   "source": [
    "# 6. Write a Python program to remove sublists from a given list of lists, which contains an element outside a given range.\n",
    "#     Data:\n",
    "#         list:[[4], [10], [1, 4, 3], [0, 1, 5, 3, 6, 7], [9, 11], [13, 14, 15, 17]]\n",
    "#     Expected Output:\n",
    "#         Original list: [[2], [0], [1, 2, 3], [0, 1, 2, 3, 6, 7], [9, 11], [13, 14, 15, 17]]\n",
    "#         After removing sublists which contains an element outside the range ( 13 , 17 ) : [[13, 14, 15, 17]]\n",
    "\n",
    "data = [[4], [10], [1, 4, 3], [0, 1, 5, 3, 6, 7], [9, 11], [13, 14, 15, 17]]\n",
    "low, high = 13, 17\n",
    "\n",
    "filtered = [sub for sub in data if all(low <= x <= high for x in sub)]\n",
    "\n",
    "print(\"Original list:\", data)\n",
    "print(f\"After removing sublists that contain an element outside the range ({low}, {high}):\")\n",
    "print(filtered)\n",
    "        \n",
    "        "
   ]
  },
  {
   "cell_type": "code",
   "execution_count": 8,
   "metadata": {},
   "outputs": [
    {
     "name": "stdout",
     "output_type": "stream",
     "text": [
      "Maximum and Minimum values in the said list:\n",
      "(5, 2)\n"
     ]
    }
   ],
   "source": [
    "# 7. Write a Python program to find the maximum and minimum values in a given heterogeneous list. \n",
    "#     Data:\n",
    "#         list:['boss', 3, 2, 4, 5, 'kumar']\n",
    "#     Expected Output:\n",
    "#         Maximum and Minimum values in the said list:\n",
    "#         (5, 2)\n",
    "        \n",
    "\n",
    "data = ['boss', 3, 2, 4, 5, 'kumar']\n",
    "\n",
    "numeric_data = [x for x in data if isinstance(x, (int, float))]\n",
    "\n",
    "max_value = max(numeric_data)\n",
    "min_value = min(numeric_data)\n",
    "\n",
    "print(\"Maximum and Minimum values in the said list:\")\n",
    "print((max_value, min_value))\n",
    "        \n",
    "        "
   ]
  },
  {
   "cell_type": "code",
   "execution_count": 9,
   "metadata": {},
   "outputs": [
    {
     "name": "stdin",
     "output_type": "stream",
     "text": [
      "length of the string to extract:\n",
      " 8\n"
     ]
    },
    {
     "name": "stdout",
     "output_type": "stream",
     "text": [
      "After extracting strings of specified length from the said list:\n",
      "['practice', 'solution']\n"
     ]
    }
   ],
   "source": [
    "# 8. Write a Python program to extract the strings from the list whose length is exactly equal to 8. \n",
    "#     Data:\n",
    "#         list:['string', 'list', 'exercises', 'practice', 'solution']\n",
    "#     Expected Output:\n",
    "#         length of the string to extract:\n",
    "#             8\n",
    "#         After extracting strings of specified length from the said list:\n",
    "#         ['practice', 'solution']\n",
    "\n",
    "items = ['string', 'list', 'exercises', 'practice', 'solution']\n",
    "\n",
    "n = int(input(\"length of the string to extract:\\n\"))\n",
    "\n",
    "result = [s for s in items if len(s) == n]\n",
    "\n",
    "print(\"After extracting strings of specified length from the said list:\")\n",
    "print(result)\n",
    "        \n",
    "        \n",
    "        \n",
    "        "
   ]
  },
  {
   "cell_type": "code",
   "execution_count": null,
   "metadata": {},
   "outputs": [],
   "source": [
    "# 9. Write a Python program to extract specified number of elements from a given list, which follows each other continuously. \n",
    "#     Data:\n",
    "#         nums = [1, 1, 3, 4, 4, 5, 6, 6, 7]\n",
    "#         nums = [1, 2, 3, 4, 4, 4, 4, 5, 7, 7, 7, 7]\n",
    "#     Expected Output:\n",
    "#         lists1: [1, 1, 3, 4, 4, 5, 6, 6, 7]\n",
    "#         Extract 2 number of elements from the said list which follows each other continuously: [1, 4, 6]\n",
    "#         lists2: [1, 2, 3, 4, 4, 4, 4, 5, 7, 7, 7, 7]\n",
    "#         Extract 4 number of elements from the said list which follows each other continuously: [4, 7]\n",
    "\n",
    "#need help on this\n",
    "        \n",
    "        \n",
    "        "
   ]
  },
  {
   "cell_type": "code",
   "execution_count": 10,
   "metadata": {},
   "outputs": [
    {
     "name": "stdout",
     "output_type": "stream",
     "text": [
      "Difference between consecutive numbers of the said list:\n",
      "[0, 2, 1, 0, 1, 1, 1]\n",
      "[1, 3, 1, -3, 4]\n"
     ]
    }
   ],
   "source": [
    "# 10. Write a Python program to find the difference between consecutive numbers in a given list. \n",
    "#     Data:\n",
    "#         lists1:[1, 1, 3, 4, 4, 5, 6, 7]\n",
    "#         lists2:[4, 5, 8, 9, 6, 10]\n",
    "#     Expected Output:\n",
    "#         Difference between consecutive numbers of the said list:\n",
    "#         [0, 2, 1, 0, 1, 1, 1]\n",
    "#         [1, 3, 1, -3, 4]\n",
    "\n",
    "\n",
    "lists1 = [1, 1, 3, 4, 4, 5, 6, 7]\n",
    "lists2 = [4, 5, 8, 9, 6, 10]\n",
    "\n",
    "diffs1 = [curr - prev for prev, curr in zip(lists1, lists1[1:])]\n",
    "diffs2 = [curr - prev for prev, curr in zip(lists2, lists2[1:])]\n",
    "\n",
    "print(\"Difference between consecutive numbers of the said list:\")\n",
    "print(diffs1)   # [0, 2, 1, 0, 1, 1, 1]\n",
    "print(diffs2)   # [1, 3, 1, -3, 4]\n",
    "        \n",
    "        \n",
    "        "
   ]
  },
  {
   "cell_type": "code",
   "execution_count": 11,
   "metadata": {},
   "outputs": [
    {
     "name": "stdout",
     "output_type": "stream",
     "text": [
      "Extract 1st column: [1, 2, 1]\n",
      "Extract 3rd column: [3, -5, 1]\n"
     ]
    }
   ],
   "source": [
    "# 11. Write a Python program to extract a specified column from a given nested list. \n",
    "#     Data:\n",
    "#         Nested list1:[[1, 2, 3], [2, 4, 5], [1, 1, 1]]\n",
    "#         Nested list2:[[1, 2, 3], [-2, 4, -5], [1, -1, 1]]\n",
    "#     Expected Output:\n",
    "#         Extract 1st column:\n",
    "#         [1, 2, 1]\n",
    "#         Extract 3rd column:\n",
    "#         [3, -5, 1]\n",
    "        \n",
    "\n",
    "def extract_column(matrix, col_index):\n",
    "    return [row[col_index] for row in matrix]\n",
    "\n",
    "nested_list1 = [[1, 2, 3], [2, 4, 5], [1, 1, 1]]\n",
    "nested_list2 = [[1, 2, 3], [-2, 4, -5], [1, -1, 1]]\n",
    "\n",
    "first_col_from_list1  = extract_column(nested_list1, 0)  # 1st column → index 0\n",
    "third_col_from_list2  = extract_column(nested_list2, 2)  # 3rd column → index 2\n",
    "\n",
    "print(\"Extract 1st column:\", first_col_from_list1)\n",
    "print(\"Extract 3rd column:\", third_col_from_list2)\n",
    "        \n",
    "        "
   ]
  },
  {
   "cell_type": "code",
   "execution_count": 12,
   "metadata": {},
   "outputs": [
    {
     "name": "stdout",
     "output_type": "stream",
     "text": [
      "List: [2, 3, 8, 4, 7, 9, 8, 2, 6, 5, 1, 6, 1, 2, 3, 4, 6, 9, 1, 2]\n",
      "Indices: [0, 3, 5, 7, 10]\n",
      "Values of given indices from the list are : [2, 4, 9, 2, 1]\n"
     ]
    }
   ],
   "source": [
    "# 12. Write a Python program to print the values of specified indices from a given list. \n",
    "#     Data:\n",
    "#         list:[2, 3, 8, 4, 7, 9, 8, 2, 6, 5, 1, 6, 1, 2, 3, 4, 6, 9, 1, 2]\n",
    "#     Expected Output:\n",
    "#         List: [2, 3, 8, 4, 7, 9, 8, 2, 6, 5, 1, 6, 1, 2, 3, 4, 6, 9, 1, 2]\n",
    "#         Indices: [0, 3, 5, 7, 10]\n",
    "#         Values of given indices from the list are : [2, 4, 9, 2, 1]\n",
    "        \n",
    "\n",
    "data = [2, 3, 8, 4, 7, 9, 8, 2, 6, 5, 1, 6, 1, 2, 3, 4, 6, 9, 1, 2]\n",
    "indices = [0, 3, 5, 7, 10]\n",
    "values = [data[i] for i in indices]\n",
    "\n",
    "print(\"List:\", data)\n",
    "print(\"Indices:\", indices)\n",
    "print(\"Values of given indices from the list are :\", values)\n",
    "        "
   ]
  },
  {
   "cell_type": "code",
   "execution_count": 13,
   "metadata": {},
   "outputs": [
    {
     "name": "stdout",
     "output_type": "stream",
     "text": [
      "Remove all elements from 'x' present in 'y': [1, 3, 5, 7, 9, 10]\n"
     ]
    }
   ],
   "source": [
    "# 13. Write a Python program to remove all elements from a given list present in another list. \n",
    "#     Data:\n",
    "#         x = [1, 2, 3, 4, 5, 6, 7, 8, 9, 10]\n",
    "#         y = [2, 4, 6, 8]\n",
    "#     Expected Output:\n",
    "#         Remove all elements from 'x' present in 'y:\n",
    "#         [1, 3, 5, 7, 9, 10]\n",
    "        \n",
    "\n",
    "x = [1, 2, 3, 4, 5, 6, 7, 8, 9, 10]\n",
    "y = [2, 4, 6, 8]\n",
    "\n",
    "result = [item for item in x if item not in y]\n",
    "\n",
    "print(\"Remove all elements from 'x' present in 'y':\", result)\n",
    "        \n",
    "        "
   ]
  },
  {
   "cell_type": "code",
   "execution_count": 14,
   "metadata": {},
   "outputs": [
    {
     "name": "stdout",
     "output_type": "stream",
     "text": [
      "Difference between elements (n+1th – nth) of list1: [1, 1, 1, 1, 1, 1, 1, 1, 1]\n",
      "Difference between elements (n+1th – nth) of list2: [3, 3, 3]\n"
     ]
    }
   ],
   "source": [
    "# 14. Write a Python program to find the difference between elements (n+1th - nth) of a given list of numeric values. \n",
    "#     Data:\n",
    "#         list1:[1, 2, 3, 4, 5, 6, 7, 8, 9, 10]\n",
    "#         list2:[3, 6, 9, 12]\n",
    "#     Expected Output:\n",
    "#         Dfference between elements (n+1th – nth) of the said list :\n",
    "#         [1, 1, 1, 1, 1, 1, 1, 1, 1]\n",
    "#         [3, 3, 3]\n",
    "        \n",
    "\n",
    "list1 = [1, 2, 3, 4, 5, 6, 7, 8, 9, 10]\n",
    "list2 = [3, 6, 9, 12]\n",
    "\n",
    "diff1 = [ list1[i+1] - list1[i] for i in range(len(list1) - 1) ]\n",
    "diff2 = [ list2[i+1] - list2[i] for i in range(len(list2) - 1) ]\n",
    "\n",
    "print(\"Difference between elements (n+1th – nth) of list1:\", diff1)\n",
    "print(\"Difference between elements (n+1th – nth) of list2:\", diff2)\n",
    "        \n",
    "        "
   ]
  },
  {
   "cell_type": "code",
   "execution_count": 15,
   "metadata": {},
   "outputs": [
    {
     "name": "stdout",
     "output_type": "stream",
     "text": [
      "Intersection of said nested lists:\n",
      "[[12], [7, 11], [1, 5, 8]]\n"
     ]
    }
   ],
   "source": [
    "# 15. Write a Python program to print only those elements from the nested list y, which are present in the another list x. \n",
    "#     Data:\n",
    "#         x = [1, 2, 3, 4, 5, 6, 7, 8, 9, 10, 11, 12, 13, 14]\n",
    "#         y = [[12, 18, 23, 25, 45], [7, 11, 19, 24, 28], [1, 5, 8, 18, 15, 16]]\n",
    "#     Expected Output:\n",
    "#         Intersection of said nested lists:\n",
    "#         [[12], [7, 11], [1, 5, 8]]\n",
    "\n",
    "x = [1, 2, 3, 4, 5, 6, 7, 8, 9, 10, 11, 12, 13, 14]\n",
    "y = [[12, 18, 23, 25, 45],\n",
    "     [7, 11, 19, 24, 28],\n",
    "     [1, 5, 8, 18, 15, 16]]\n",
    "\n",
    "result = [[e for e in sublist if e in x] for sublist in y]\n",
    "\n",
    "print(\"Intersection of said nested lists:\")\n",
    "print(result)\n",
    "        \n",
    "        \n",
    "        \n",
    "        "
   ]
  },
  {
   "cell_type": "code",
   "execution_count": 16,
   "metadata": {},
   "outputs": [
    {
     "name": "stdout",
     "output_type": "stream",
     "text": [
      "Interleave multiple lists:\n",
      "[1, 10, 100, 2, 20, 200, 3, 30, 300, 4, 40, 400, 5, 50, 500, 6, 60, 600, 7, 70, 700]\n"
     ]
    }
   ],
   "source": [
    "# 16. Write a Python program to interleave multiple lists of the same length. \n",
    "#     Data:\n",
    "#         lists:\n",
    "#         x = [1, 2, 3, 4, 5, 6, 7]\n",
    "#         y = [10, 20, 30, 40, 50, 60, 70]\n",
    "#         z = [100, 200, 300, 400, 500, 600, 700]\n",
    "#     Expected Output:\n",
    "#         Interleave multiple lists:\n",
    "#         [1, 10, 100, 2, 20, 200, 3, 30, 300, 4, 40, 400, 5, 50, 500, 6, 60, 600, 7, 70, 700]\n",
    "\n",
    "x = [1, 2, 3, 4, 5, 6, 7]\n",
    "y = [10, 20, 30, 40, 50, 60, 70]\n",
    "z = [100, 200, 300, 400, 500, 600, 700]\n",
    "\n",
    "interleaved = [element\n",
    "               for triplet in zip(x, y, z)     \n",
    "               for element in triplet]         \n",
    "\n",
    "print(\"Interleave multiple lists:\")\n",
    "print(interleaved)\n",
    "        \n",
    "        \n",
    "        \n",
    "        "
   ]
  },
  {
   "cell_type": "code",
   "execution_count": 18,
   "metadata": {},
   "outputs": [
    {
     "name": "stdout",
     "output_type": "stream",
     "text": [
      "Interleave two given lists randomly:\n",
      "[4, 1, 2, 3, 7, 8, 8, 9, 3, 7, 4, 3, 8, 9]\n"
     ]
    }
   ],
   "source": [
    "# 17. Write a Python program to interleave two given list into another list randomly. \n",
    "#     Data:\n",
    "#         lists:\n",
    "#         x = [1, 2, 7, 8, 3, 7]\n",
    "#         y = [4, 3, 8, 9, 4, 3, 8, 9]\n",
    "#     Expected Output:\n",
    "#         Interleave two given list into another list randomly:\n",
    "#         [4, 3, 1, 8, 2, 9, 4, 7, 3, 8, 3, 8, 9, 7]\n",
    "        \n",
    "import random\n",
    "x = [1, 2, 7, 8, 3, 7]\n",
    "y = [4, 3, 8, 9, 4, 3, 8, 9]\n",
    "\n",
    "def interleave_random(x, y):\n",
    "    a, b = x[:], y[:]\n",
    "    result = [\n",
    "        a.pop(0) if (not b or (a and random.choice([True, False])))\n",
    "        else b.pop(0)\n",
    "        for _ in range(len(x) + len(y))\n",
    "    ]\n",
    "    return result\n",
    "\n",
    "print(\"Interleave two given lists randomly:\")\n",
    "print(interleave_random(x, y))\n",
    "        \n",
    "        "
   ]
  },
  {
   "cell_type": "code",
   "execution_count": 20,
   "metadata": {},
   "outputs": [
    {
     "name": "stdout",
     "output_type": "stream",
     "text": [
      "Frequency of the elements in the said list of lists:\n",
      "{1: 1, 2: 3, 3: 1, 4: 1, 5: 2, 6: 1, 7: 1, 8: 1, 9: 1}\n"
     ]
    }
   ],
   "source": [
    "# 18. Write a Python program to get the frequency of the elements in a given list of lists. \n",
    "#     Data:\n",
    "#         lists:[[1, 2, 3, 2], [4, 5, 6, 2], [7, 8, 9, 5]]\n",
    "#     Expected Output:\n",
    "#         Frequency of the elements in the said list of lists:\n",
    "#         {1: 1, 2: 3, 3: 1, 4: 1, 5: 2, 6: 1, 7: 1, 8: 1, 9: 1}\n",
    "\n",
    "lists = [[1, 2, 3, 2], \n",
    "         [4, 5, 6, 2], \n",
    "         [7, 8, 9, 5]]\n",
    "\n",
    "flat = [item for sublist in lists for item in sublist]\n",
    "\n",
    "freq = {x: flat.count(x) for x in sorted(set(flat))}\n",
    "\n",
    "print(\"Frequency of the elements in the said list of lists:\")\n",
    "print(freq)\n",
    "        \n",
    "        \n",
    "        \n",
    "        "
   ]
  },
  {
   "cell_type": "code",
   "execution_count": 21,
   "metadata": {},
   "outputs": [
    {
     "name": "stdout",
     "output_type": "stream",
     "text": [
      "lists: ['4', '12', '45', '7', '0', '100', '200', '-12', '-500']\n",
      "Sorted list : [-500, -12, 0, 4, 7, 12, 45, 100, 200]\n"
     ]
    }
   ],
   "source": [
    "# 19. Write a Python program to sort a given list. \n",
    "#     Data:\n",
    "#         lists:['4', '12', '45', '7', '0', '100', '200', '-12', '-500']\n",
    "#     Expected Output:\n",
    "#         lists: ['4', '12', '45', '7', '0', '100', '200', '-12', '-500']\n",
    "#         Sorted list : [-500, -12, 0, 4, 7, 12, 45, 100, 200]\n",
    "\n",
    "if __name__ == \"__main__\":\n",
    "    lists = ['4', '12', '45', '7', '0', '100', '200', '-12', '-500']\n",
    "    sorted_list = sorted([int(x) for x in lists])\n",
    "\n",
    "    print(\"lists:\", lists)\n",
    "    print(\"Sorted list :\", sorted_list)\n",
    "        \n",
    "        \n",
    "        "
   ]
  },
  {
   "cell_type": "code",
   "execution_count": 22,
   "metadata": {},
   "outputs": [
    {
     "name": "stdout",
     "output_type": "stream",
     "text": [
      "First even and odd number of the said list of numbers:\n",
      "(4, 1)\n"
     ]
    }
   ],
   "source": [
    "# 20. Write a Python program to find the first even and odd numbers from the given list. \n",
    "#     Data:\n",
    "#         list:[1, 3, 5, 7, 4, 1, 6, 8]\n",
    "#     Expected Output:\n",
    "#         First even and odd number of the said list of numbers:\n",
    "#         (4, 1)\n",
    "\n",
    "numbers = [1, 3, 5, 7, 4, 1, 6, 8]\n",
    "even_nums = [n for n in numbers if n % 2 == 0]\n",
    "odd_nums  = [n for n in numbers if n % 2 != 0]\n",
    "\n",
    "first_even = even_nums[0] if even_nums else None\n",
    "first_odd  = odd_nums[0]  if odd_nums  else None\n",
    "\n",
    "print(\"First even and odd number of the said list of numbers:\")\n",
    "print((first_even, first_odd))\n",
    "        "
   ]
  }
 ],
 "metadata": {
  "kernelspec": {
   "display_name": "Python 3 (ipykernel)",
   "language": "python",
   "name": "python3"
  },
  "language_info": {
   "codemirror_mode": {
    "name": "ipython",
    "version": 3
   },
   "file_extension": ".py",
   "mimetype": "text/x-python",
   "name": "python",
   "nbconvert_exporter": "python",
   "pygments_lexer": "ipython3",
   "version": "3.12.7"
  }
 },
 "nbformat": 4,
 "nbformat_minor": 4
}
