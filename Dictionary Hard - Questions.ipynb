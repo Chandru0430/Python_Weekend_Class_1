{
 "cells": [
  {
   "cell_type": "markdown",
   "metadata": {},
   "source": [
    "# Dictionary Hard Questions"
   ]
  },
  {
   "cell_type": "code",
   "execution_count": 1,
   "metadata": {},
   "outputs": [
    {
     "name": "stdout",
     "output_type": "stream",
     "text": [
      "Maximum Value: 5874\n",
      "Minimum Value: 500\n"
     ]
    }
   ],
   "source": [
    "# 1. Write a Python program to get the maximum and minimum value from a dictionary. \n",
    "#     Data:\n",
    "#         d1 = {'x':500, 'y':5874, 'z': 560}\n",
    "#     Expected Output:\n",
    "#         Maximum Value:  5874\n",
    "#         Minimum Value:  500\n",
    "            \n",
    "\n",
    "d1 = {'x': 500, 'y': 5874, 'z': 560}\n",
    "\n",
    "max_value = max(d1.values())\n",
    "min_value = min(d1.values())\n",
    "\n",
    "print(\"Maximum Value:\", max_value)\n",
    "print(\"Minimum Value:\", min_value)\n",
    "            \n",
    "            "
   ]
  },
  {
   "cell_type": "code",
   "execution_count": 2,
   "metadata": {},
   "outputs": [
    {
     "name": "stdout",
     "output_type": "stream",
     "text": [
      "{'id1': {'name': ['Boss'], 'class': ['V'], 'subject_integration': ['english, math, science']}, 'id2': {'name': ['Suresh'], 'class': ['V'], 'subject_integration': ['english, math, science']}, 'id3': {'name': ['Siva'], 'class': ['V'], 'subject_integration': ['english, math, science']}, 'id4': {'name': ['Surya'], 'class': ['V'], 'subject_integration': ['english, math, science']}}\n"
     ]
    }
   ],
   "source": [
    "# 2. Write a Python program to remove duplicate key value from the given dictionary.\n",
    "#     Data:\n",
    "#         student_data = {'id1': \n",
    "#    {'name': ['Boss'], \n",
    "#     'class': ['V'], \n",
    "#     'subject_integration': ['english, math, science']\n",
    "#    },\n",
    "#  'id2': \n",
    "#   {'name': ['Suresh'], \n",
    "#     'class': ['V'], \n",
    "#     'subject_integration': ['english, math, science']\n",
    "#    },\n",
    "#  'id3': \n",
    "#     {'name': ['Siva'], \n",
    "#     'class': ['V'], \n",
    "#     'subject_integration': ['english, math, science']\n",
    "#    },\n",
    "#  'id2': \n",
    "#   {'name': ['Suresh'], \n",
    "#     'class': ['V'], \n",
    "#     'subject_integration': ['english, math, science']\n",
    "#    },\n",
    "#  'id4': \n",
    "#    {'name': ['Surya'], \n",
    "#     'class': ['V'], \n",
    "#     'subject_integration': ['english, math, science']\n",
    "#    },\n",
    "# }\n",
    "#     Expected Output:\n",
    "#         {'id1': {'name': ['Boss'], 'class': ['V'], 'subject_integration': ['english, math, science']}, \n",
    "#          'id2': {'name': ['Suresh'], 'class': ['V'], 'subject_integration': ['english, math, science']}, \n",
    "#          'id3': {'name': ['Siva'], 'class': ['V'], 'subject_integration': ['english, math, science']}, \n",
    "#          'id4': {'name': ['Surya'], 'class': ['V'], 'subject_integration': ['english, math, science']}}\n",
    "        \n",
    "\n",
    "student_data = {\n",
    "    'id1': {\n",
    "        'name': ['Boss'],\n",
    "        'class': ['V'],\n",
    "        'subject_integration': ['english, math, science']\n",
    "    },\n",
    "    'id2': {\n",
    "        'name': ['Suresh'],\n",
    "        'class': ['V'],\n",
    "        'subject_integration': ['english, math, science']\n",
    "    },\n",
    "    'id3': {\n",
    "        'name': ['Siva'],\n",
    "        'class': ['V'],\n",
    "        'subject_integration': ['english, math, science']\n",
    "    },\n",
    "    'id2': \n",
    "            \n",
    "    {\n",
    "        'name': ['Suresh'],\n",
    "        'class': ['V'],\n",
    "        'subject_integration': ['english, math, science']\n",
    "    },\n",
    "    'id4': {\n",
    "        'name': ['Surya'],\n",
    "        'class': ['V'],\n",
    "        'subject_integration': ['english, math, science']\n",
    "    },\n",
    "}\n",
    "\n",
    "unique_data = {}\n",
    "for key, value in student_data.items():\n",
    "    if value not in unique_data.values():\n",
    "        unique_data[key] = value\n",
    "\n",
    "print(unique_data)\n",
    "        \n",
    "        "
   ]
  },
  {
   "cell_type": "code",
   "execution_count": 3,
   "metadata": {},
   "outputs": [
    {
     "name": "stdout",
     "output_type": "stream",
     "text": [
      "defaultdict(<class 'set'>, {'Class-V': {1}, 'Class-VI': {2}, 'Class-VII': {2}, 'Class-VIII': {3}})\n"
     ]
    }
   ],
   "source": [
    "# 3. Write a Python program to create a dictionary from two lists without losing duplicate values.\n",
    "#     Data:\n",
    "#         lists: ['Class-V', 'Class-VI', 'Class-VII', 'Class-VIII'], [1, 2, 2, 3]\n",
    "#     Expected Output:\n",
    "#         defaultdict(<class 'set'>, {'Class-V': {1}, 'Class-VI': {2}, 'Class-VII': {2}, 'Class-VIII': {3}})\n",
    "\n",
    "\n",
    "from collections import defaultdict\n",
    "\n",
    "def dict_from_lists(keys, values):\n",
    "\n",
    "    result = defaultdict(set)\n",
    "    for k, v in zip(keys, values):\n",
    "        result[k].add(v)\n",
    "    return result\n",
    "\n",
    "if __name__ == \"__main__\":\n",
    "    class_names = ['Class-V', 'Class-VI', 'Class-VII', 'Class-VIII']\n",
    "    scores      = [1, 2, 2, 3]\n",
    "\n",
    "    output = dict_from_lists(class_names, scores)\n",
    "    print(output)\n",
    "        \n",
    "        \n",
    "        "
   ]
  },
  {
   "cell_type": "code",
   "execution_count": 4,
   "metadata": {},
   "outputs": [
    {
     "name": "stdout",
     "output_type": "stream",
     "text": [
      "[{'id': 1, 'subject': 'math', 'V+VI': 76.0}, {'id': 2, 'subject': 'math', 'V+VI': 73.5}, {'id': 3, 'subject': 'math', 'V+VI': 80.5}]\n"
     ]
    }
   ],
   "source": [
    "# 4. Write a Python program to replace dictionary values with their average.\n",
    "#     Data:\n",
    "#         student= [\n",
    "#                    {'id' : 1, 'subject' : 'math', 'V' : 70, 'VI' : 82},\n",
    "#                    {'id' : 2, 'subject' : 'math', 'V' : 73, 'VI' : 74},\n",
    "#                    {'id' : 3, 'subject' : 'math', 'V' : 75, 'VI' : 86}\n",
    "#                                                                        ]\n",
    "#     Expected Output:\n",
    "#         [{'id': 1, 'subject': 'math', 'V+VI': 76.0}, \n",
    "#          {'id': 2, 'subject': 'math', 'V+VI': 73.5}, \n",
    "#          {'id': 3, 'subject': 'math', 'V+VI': 80.5}]\n",
    "\n",
    "\n",
    "student = [\n",
    "    {'id': 1, 'subject': 'math', 'V': 70, 'VI': 82},\n",
    "    {'id': 2, 'subject': 'math', 'V': 73, 'VI': 74},\n",
    "    {'id': 3, 'subject': 'math', 'V': 75, 'VI': 86}\n",
    "]\n",
    "\n",
    "result = []\n",
    "for d in student:\n",
    "    avg = (d['V'] + d['VI']) / 2.0\n",
    "    new_dict = {\n",
    "        'id': d['id'],\n",
    "        'subject': d['subject'],\n",
    "        'V+VI': avg\n",
    "    }\n",
    "    result.append(new_dict)\n",
    "\n",
    "print(result)\n",
    "        \n",
    "        \n",
    "        "
   ]
  },
  {
   "cell_type": "code",
   "execution_count": 5,
   "metadata": {},
   "outputs": [
    {
     "name": "stdout",
     "output_type": "stream",
     "text": [
      "{'students': [{'firstName': 'Boss', 'lastName': 'King'}, {'firstName': 'Siva', 'lastName': 'Raj'}, {'firstName': 'suresh', 'lastName': 'kumar'}], 'teachers': [{'firstName': 'Kumar', 'lastName': 'Samy'}, {'firstName': 'Dinesh', 'lastName': 'Kumar'}]}\n"
     ]
    }
   ],
   "source": [
    "# 5. Write a Python program to store a given dictionary in a json file.\n",
    "#     Data:\n",
    "#         d = {'students': [{'firstName': 'Boss', 'lastName': 'King'}, \n",
    "#                   {'firstName': 'Siva', 'lastName': 'Raj'}, \n",
    "#                   {'firstName': 'suresh', 'lastName': 'kumar'}], \n",
    "#             'teachers': [{'firstName': 'Kumar', 'lastName': 'Samy'},\n",
    "#                    {'firstName': 'Dinesh', 'lastName': 'Kumar'}]}\n",
    "#     Expected Output:\n",
    "#         The output displayed from json file.\n",
    "#         {'students': [{'firstName': 'Boss', 'lastName': 'King'}, \n",
    "#                       {'firstName': 'Siva', 'lastName': 'Raj'}, \n",
    "#                       {'firstName': 'suresh', 'lastName': 'kumar'}],\n",
    "#          'teachers': [{'firstName': 'Kumar', 'lastName': 'Samy'}, \n",
    "#                       {'firstName': 'Dinesh', 'lastName': 'Kumar'}]}\n",
    "\n",
    "import json\n",
    "d = {\n",
    "    'students': [\n",
    "        {'firstName': 'Boss',   'lastName': 'King'},\n",
    "        {'firstName': 'Siva',   'lastName': 'Raj'},\n",
    "        {'firstName': 'suresh', 'lastName': 'kumar'}\n",
    "    ],\n",
    "    'teachers': [\n",
    "        {'firstName': 'Kumar',  'lastName': 'Samy'},\n",
    "        {'firstName': 'Dinesh', 'lastName': 'Kumar'}\n",
    "    ]\n",
    "}\n",
    "\n",
    "with open('data.json', 'w') as json_file:\n",
    "    json.dump(d, json_file, indent=4)\n",
    "\n",
    "with open('data.json', 'r') as json_file:\n",
    "    loaded = json.load(json_file)\n",
    "\n",
    "print(loaded)\n",
    "        \n",
    "        \n",
    "        \n",
    "        "
   ]
  },
  {
   "cell_type": "code",
   "execution_count": 6,
   "metadata": {},
   "outputs": [
    {
     "name": "stdout",
     "output_type": "stream",
     "text": [
      "Nested dictionary:\n",
      "[{'R1': {'Saravana': 85}}, {'R2': {'Shreya': 98}}, {'R3': {'Shakthi': 89}}, {'R4': {'Shwetha': 92}}]\n"
     ]
    }
   ],
   "source": [
    "# 6. Write a Python program to convert more than one list to nested dictionary. \n",
    "#     Data:\n",
    "#         student_id = [\"R1\", \"R2\", \"R3\", \"R4\"] \n",
    "#         student_name = [\"Saravana\", \"Shreya\", \"Shakthi\", \"Shwetha\"] \n",
    "#         student_grade = [85, 98, 89, 92]\n",
    "#     Expected Output:\n",
    "#         Nested dictionary:\n",
    "#             [{'R1': {'Saravana': 85}}, {'R2': {'Shreya': 98}}, {'R3': {'Shakthi': 89}}, {'R4': {'Shwetha': 92}}] \n",
    "\n",
    "\n",
    "student_id    = [\"R1\", \"R2\", \"R3\", \"R4\"]\n",
    "student_name  = [\"Saravana\", \"Shreya\", \"Shakthi\", \"Shwetha\"]\n",
    "student_grade = [85, 98, 89, 92]\n",
    "\n",
    "def lists_to_nested_dict(ids, names, grades):\n",
    "    \"\"\"\n",
    "    Convert three parallel lists into a list of nested dictionaries.\n",
    "    Each dictionary is: { id: { name: grade } }\n",
    "    \"\"\"\n",
    "    result = []\n",
    "    for sid, name, grade in zip(ids, names, grades):\n",
    "        inner_dict = { name: grade }\n",
    "        outer_dict = { sid: inner_dict }\n",
    "        result.append(outer_dict)\n",
    "    return result\n",
    "\n",
    "nested = lists_to_nested_dict(student_id, student_name, student_grade)\n",
    "print(\"Nested dictionary:\")\n",
    "print(nested)\n",
    "        "
   ]
  },
  {
   "cell_type": "code",
   "execution_count": 7,
   "metadata": {},
   "outputs": [
    {
     "name": "stdout",
     "output_type": "stream",
     "text": [
      "Nested dictionary:\n",
      "[{'R1': {'Saravana': 85}}, {'R2': {'Shreya': 98}}, {'R3': {'Shakthi': 89}}, {'R4': {'Shwetha': 92}}]\n"
     ]
    }
   ],
   "source": [
    "# 7. Write a Python program to filter those students whose height > 5.5 and weight > 65 from the given dictionary.\n",
    "#     Data:\n",
    "#         {'Varun': (6.2, 70), 'Tharun': (5.9, 60), 'Arun': (6.0, 68), 'Suran': (5.8, 66)}\n",
    "#     Expected Output:  \n",
    "#         Height > 5.5 and weight > 65:\n",
    "#             {'Varun': (6.2, 70), 'Arun': (6.0, 68), 'Suran': (5.8, 66)}\n",
    "\n",
    "student_id    = [\"R1\", \"R2\", \"R3\", \"R4\"]\n",
    "student_name  = [\"Saravana\", \"Shreya\", \"Shakthi\", \"Shwetha\"]\n",
    "student_grade = [85, 98, 89, 92]\n",
    "\n",
    "def lists_to_nested_dict(ids, names, grades):\n",
    "    result = []\n",
    "    for sid, name, grade in zip(ids, names, grades):\n",
    "        inner_dict = { name: grade }\n",
    "        outer_dict = { sid: inner_dict }\n",
    "        result.append(outer_dict)\n",
    "    return result\n",
    "\n",
    "nested = lists_to_nested_dict(student_id, student_name, student_grade)\n",
    "print(\"Nested dictionary:\")\n",
    "print(nested)\n",
    "        \n",
    "        \n",
    "        \n",
    "        "
   ]
  },
  {
   "cell_type": "code",
   "execution_count": 8,
   "metadata": {},
   "outputs": [
    {
     "name": "stdout",
     "output_type": "stream",
     "text": [
      "Check all are 12 in the dictionary.\n",
      "True\n",
      "\n",
      "Check all are 10 in the dictionary.\n",
      "False\n"
     ]
    }
   ],
   "source": [
    "# 8. Write a Python program to check all values in a dictionary are same.\n",
    "#     Data:\n",
    "#         {'dinesh': 12, 'boss': 12, 'siva': 12, 'suresh': 12}\n",
    "#     Expected Output:   \n",
    "#         Check all are  12 in the dictionary.\n",
    "#         True\n",
    "#         Check all are  10 in the dictionary.\n",
    "#         False\n",
    "\n",
    "def check_all_values(d, target):\n",
    "    return all(v == target for v in d.values())\n",
    "\n",
    "d = {'dinesh': 12, 'boss': 12, 'siva': 12, 'suresh': 12}\n",
    "value = 12\n",
    "print(f\"Check all are {value} in the dictionary.\")\n",
    "print(check_all_values(d, value))   # Expected: True\n",
    "\n",
    "value = 10\n",
    "print(f\"\\nCheck all are {value} in the dictionary.\")\n",
    "print(check_all_values(d, value)) \n",
    "        \n",
    "        \n",
    "        "
   ]
  },
  {
   "cell_type": "code",
   "execution_count": 10,
   "metadata": {},
   "outputs": [
    {
     "name": "stdout",
     "output_type": "stream",
     "text": [
      "[90, 89, 92]\n",
      "[90, 89, 92]\n"
     ]
    }
   ],
   "source": [
    "# 9. Write a Python program to extract a list of values from a specified key('Maths'), from a given list of dictionaries.\n",
    "#     Data:\n",
    "#         [{'Math': 90, 'Science': 92}, {'Math': 89, 'Science': 94}, {'Math': 92, 'Science': 88}]\n",
    "#     Expected Output:\n",
    "#         Extract a list of values from said list of dictonaries where subject =  Math[90, 89, 92]\n",
    "\n",
    "\n",
    "scores = [\n",
    "    {'Math':    90, 'Science': 92},\n",
    "    {'Math':    89, 'Science': 94},\n",
    "    {'Math':    92, 'Science': 88},\n",
    "]\n",
    "\n",
    "subject = 'Math'\n",
    "\n",
    "math_scores = [entry[subject] for entry in scores if subject in entry]\n",
    "print(math_scores)  \n",
    "\n",
    "from operator import itemgetter\n",
    "getter = itemgetter(subject)\n",
    "math_scores2 = list(map(getter, scores))\n",
    "print(math_scores2) \n",
    "        \n",
    "        \n",
    "        "
   ]
  },
  {
   "cell_type": "code",
   "execution_count": 11,
   "metadata": {},
   "outputs": [
    {
     "name": "stdout",
     "output_type": "stream",
     "text": [
      "length of dictionary values:\n",
      "{'red': 3, 'green': 5, 'black': 5, 'white': 5}\n",
      "{'Boss': 4, 'Siva': 4, 'Suresh': 6, 'Kumar': 5}\n"
     ]
    }
   ],
   "source": [
    "# 10. Write a Python program to find the length of each value in a dictionary and display the value and length of the value in a separate dictionary.\n",
    "#     Data:\n",
    "#         color = {1 : 'red', 2 : 'green', 3 : 'black', 4 : 'white', 5 : 'black'}\n",
    "#         name = {'1' : 'Boss', '2' : 'Siva', '3' : 'Suresh', '4' : 'Kumar'}\n",
    "#     Expected Output:\n",
    "#         length of dictionary values:\n",
    "#         {'red': 3, 'green': 5, 'black': 5, 'white': 5}\n",
    "#         {'Boss': 4, 'Siva': 4, 'Suresh': 6, 'Kumar': 5}\n",
    "\n",
    "color = {1: 'red', 2: 'green', 3: 'black', 4: 'white', 5: 'black'}\n",
    "name  = {'1': 'Boss', '2': 'Siva', '3': 'Suresh', '4': 'Kumar'}\n",
    "\n",
    "length_color = {value: len(value) for value in color.values()}\n",
    "length_name  = {value: len(value) for value in name.values()}\n",
    "\n",
    "print(\"length of dictionary values:\")\n",
    "print(length_color)\n",
    "print(length_name)\n",
    "\n",
    "            \n",
    "            \n",
    "            "
   ]
  },
  {
   "cell_type": "code",
   "execution_count": 12,
   "metadata": {},
   "outputs": [
    {
     "name": "stdout",
     "output_type": "stream",
     "text": [
      "Using list comprehension:\n",
      "[[1, 'red'], [2, 'green'], [3, 'black'], [4, 'white'], [5, 'black']]\n",
      "[['1', 'Boss'], ['2', 'Siva'], ['3', 'Suresh'], ['4', 'Kumar']]\n",
      "\n",
      "Using map + list:\n",
      "[[1, 'red'], [2, 'green'], [3, 'black'], [4, 'white'], [5, 'black']]\n",
      "[['1', 'Boss'], ['2', 'Siva'], ['3', 'Suresh'], ['4', 'Kumar']]\n"
     ]
    }
   ],
   "source": [
    "# 11. Write a Python program to convert a given dictionary into a list of lists.\n",
    "#     Data:\n",
    "#         color = {1 : 'red', 2 : 'green', 3 : 'black', 4 : 'white', 5 : 'black'}\n",
    "#         name = {'1' : 'Boss', '2' : 'Siva', '3' : 'Suresh', '4' : 'Kumar'\n",
    "#     Expected Output:\n",
    "#         Convert the said dictionary into a list of lists:\n",
    "#         [[1, 'red'], [2, 'green'], [3, 'black'], [4, 'white'], [5, 'black']]\n",
    "#         [['1', 'Boss'], ['2', 'Siva'], ['3', 'Suresh'], ['4', 'Kumar']]\n",
    "                \n",
    "\n",
    "color = {1: 'red',\n",
    "         2: 'green',\n",
    "         3: 'black',\n",
    "         4: 'white',\n",
    "         5: 'black'}\n",
    "\n",
    "name = {'1': 'Boss',\n",
    "        '2': 'Siva',\n",
    "        '3': 'Suresh',\n",
    "        '4': 'Kumar'}\n",
    "\n",
    "color_list1 = [[k, v] for k, v in color.items()]\n",
    "name_list1  = [[k, v] for k, v in name.items()]\n",
    "\n",
    "color_list2 = list(map(list, color.items()))\n",
    "name_list2  = list(map(list, name.items()))\n",
    "\n",
    "print(\"Using list comprehension:\")\n",
    "print(color_list1)\n",
    "print(name_list1)\n",
    "\n",
    "print(\"\\nUsing map + list:\")\n",
    "print(color_list2)\n",
    "print(name_list2)\n",
    "                \n",
    "                "
   ]
  },
  {
   "cell_type": "code",
   "execution_count": 13,
   "metadata": {},
   "outputs": [
    {
     "name": "stdout",
     "output_type": "stream",
     "text": [
      "Filter even numbers from said dictionary values:\n",
      "{'V': [4, 6, 10], 'VI': [4, 12], 'VII': [8]}\n",
      "{'V': [], 'VI': [], 'VII': [2]}\n"
     ]
    }
   ],
   "source": [
    "# 12. Write a Python program to filter even numbers from a given dictionary values.\n",
    "#     Data:\n",
    "#         students = {'V' : [1, 4, 6, 10], 'VI' : [1, 4, 12], 'VII' : [1, 3, 8]} \n",
    "#         students = {'V' : [1, 3, 5], 'VI' : [1, 5], 'VII' : [2, 7, 9]} \n",
    "#     Expected Output:\n",
    "#         Filter even numbers from said dictionary values:\n",
    "#         {'V': [4, 6, 10], 'VI': [4, 12], 'VII': [8]}\n",
    "#         {'V': [], 'VI': [], 'VII': [2]}\n",
    "        \n",
    "\n",
    "def filter_even_values(d):\n",
    "    return {\n",
    "        key: [x for x in values if x % 2 == 0]\n",
    "        for key, values in d.items()\n",
    "    }\n",
    "\n",
    "students1 = {\n",
    "    'V':  [1, 4, 6, 10],\n",
    "    'VI': [1, 4, 12],\n",
    "    'VII':[1, 3, 8]\n",
    "}\n",
    "\n",
    "students2 = {\n",
    "    'V':  [1, 3, 5],\n",
    "    'VI': [1, 5],\n",
    "    'VII':[2, 7, 9]\n",
    "}\n",
    "\n",
    "even_students1 = filter_even_values(students1)\n",
    "even_students2 = filter_even_values(students2)\n",
    "\n",
    "print(\"Filter even numbers from said dictionary values:\")\n",
    "print(even_students1)\n",
    "print(even_students2)\n",
    "        \n",
    "        "
   ]
  },
  {
   "cell_type": "code",
   "execution_count": 14,
   "metadata": {},
   "outputs": [
    {
     "name": "stdout",
     "output_type": "stream",
     "text": [
      "Top 2 highest values' key are: ['f', 'i']\n",
      "Top 5 highest values' key are: ['f', 'i', 'g', 'd', 'c']\n"
     ]
    }
   ],
   "source": [
    "# 13. Write a python function to return the keys from a dictionary. The function should take two arguments, \n",
    "#                 a list and a number of highest values to be displayed.\n",
    "#     Data:\n",
    "#         dictt = {'a':5, 'b':14, 'c': 32, 'd':35, 'e':24, 'f': 100, 'g':57, 'h':8, 'i': 100}\n",
    "#     Expected Output:\n",
    "#         When n = 2,\n",
    "#         Top 2 highest values' key are: ['f', 'i']\n",
    "#         Top 5 highest values' key are: ['f', 'i', 'g', 'd', 'c']\n",
    "\n",
    "def top_n_keys(data_dict, n):\n",
    "    sorted_keys = sorted(data_dict, key=data_dict.get, reverse=True)\n",
    "    return sorted_keys[:n]\n",
    "\n",
    "dictt = {\n",
    "    'a': 5,  'b': 14, 'c': 32, 'd': 35, 'e': 24,\n",
    "    'f':100, 'g': 57, 'h':  8, 'i':100\n",
    "}\n",
    "\n",
    "print(\"Top 2 highest values' key are:\", top_n_keys(dictt, 2))\n",
    "\n",
    "print(\"Top 5 highest values' key are:\", top_n_keys(dictt, 5))\n",
    "\n",
    "        \n",
    "        \n",
    "        \n",
    "        "
   ]
  },
  {
   "cell_type": "code",
   "execution_count": 15,
   "metadata": {},
   "outputs": [
    {
     "name": "stdout",
     "output_type": "stream",
     "text": [
      "Keys of shortest list of values are: ['VI', 'VIII', 'X']\n"
     ]
    }
   ],
   "source": [
    "# 14. Write a Python function to return the keys of shortest list of values from the given dictionary.\n",
    "#     Data:\n",
    "#         {'V': [10, 12], 'VI': [10], 'VII': [10, 20, 30, 40], 'VIII': [20], 'IX': [10, 30, 50, 70], 'X': [80]}\n",
    "#     Expected Output:\n",
    "#         Keys of shortest list of values are: ['VI', 'VIII', 'X']\n",
    "\n",
    "def keys_of_shortest_lists(d):\n",
    "    min_length = min(len(v) for v in d.values())\n",
    "    shortest_keys = [k for k, v in d.items() if len(v) == min_length]\n",
    "\n",
    "    return shortest_keys\n",
    "\n",
    "data = {\n",
    "    'V':   [10, 12],\n",
    "    'VI':  [10],\n",
    "    'VII': [10, 20, 30, 40],\n",
    "    'VIII':[20],\n",
    "    'IX':  [10, 30, 50, 70],\n",
    "    'X':   [80]\n",
    "}\n",
    "\n",
    "result = keys_of_shortest_lists(data)\n",
    "print(\"Keys of shortest list of values are:\", result)\n",
    "        \n",
    "        \n",
    "        \n",
    "        "
   ]
  },
  {
   "cell_type": "code",
   "execution_count": 16,
   "metadata": {},
   "outputs": [
    {
     "name": "stdout",
     "output_type": "stream",
     "text": [
      "{10: 2, 40: 2, 20: 2, 70: 1, 80: 1}\n"
     ]
    }
   ],
   "source": [
    "# 15. Write a python program to count the frequency of values from a given dictionary. \n",
    "#                     Print the values and its count as a separate dictionary.\n",
    "# Write a Python program to count the frequency in a given dictionary.\n",
    "#     Data:\n",
    "#         {'V': 10, 'VI': 10, 'VII': 40, 'VIII': 20, 'IX': 70, 'X': 80, 'XI': 40, 'XII': 20}\n",
    "#     Expected Output:\n",
    "#         Counter({10: 2, 40: 2, 20: 2, 70: 1, 80: 1})\n",
    "\n",
    "data = {\n",
    "    'V': 10,\n",
    "    'VI': 10,\n",
    "    'VII': 40,\n",
    "    'VIII': 20,\n",
    "    'IX': 70,\n",
    "    'X': 80,\n",
    "    'XI': 40,\n",
    "    'XII': 20\n",
    "}\n",
    "\n",
    "frequency = {}\n",
    "for value in data.values():\n",
    "    frequency[value] = frequency.get(value, 0) + 1\n",
    "\n",
    "print(frequency)\n",
    "        \n",
    "        \n",
    "        \n",
    "        "
   ]
  },
  {
   "cell_type": "code",
   "execution_count": 17,
   "metadata": {},
   "outputs": [
    {
     "name": "stdout",
     "output_type": "stream",
     "text": [
      "[[1, 'Basakr', 'V'], [2, 'Suresh', 'V'], [3, 'Siva', 'VI'], [4, 'Karthi', 'VI'], [5, 'Dinesh', 'VII']]\n",
      "[[1, 'Basakr'], [2, 'Suresh'], [3, 'Siva'], [4, 'Karthi'], [5, 'Dinesh']]\n",
      "[['Basakr', 'V'], ['Suresh', 'V'], ['Siva', 'VI'], ['Karthi', 'VI'], ['Dinesh', 'VII']]\n"
     ]
    }
   ],
   "source": [
    "# 16. Write a Python program to extract values from a given dictionaries and create a list of lists from those values.\n",
    "#     Data:\n",
    "#         students = [\n",
    "#         {'student_id': 1, 'name': 'Basakr', 'class': 'V'}, \n",
    "#         {'student_id': 2, 'name': 'Suresh', 'class': 'V'},\n",
    "#         {'student_id': 3, 'name': 'Siva', 'class': 'VI'}, \n",
    "#         {'student_id': 4, 'name': 'Karthi', 'class': 'VI'}, \n",
    "#         {'student_id': 5, 'name': 'Dinesh', 'class': 'VII'}\n",
    "#         ]\n",
    "#     Expected Output:\n",
    "#          [[1, 'Basakr', 'V'], [2, 'Suresh', 'V'], [3, 'Siva', 'VI'], [4, 'Karthi', 'VI'], [5, 'Dinesh', 'VII']]\n",
    "#          [[1, 'Basakr'], [2, 'Suresh'], [3, 'Siva'], [4, 'Karthi'], [5, 'Dinesh']]\n",
    "#          [['Basakr', 'V'], ['Suresh', 'V'], ['Siva', 'VI'], ['Karthi', 'VI'], ['Dinesh', 'VII']]\n",
    "            \n",
    "\n",
    "students = [\n",
    "    {'student_id': 1, 'name': 'Basakr',  'class': 'V'},\n",
    "    {'student_id': 2, 'name': 'Suresh',  'class': 'V'},\n",
    "    {'student_id': 3, 'name': 'Siva',    'class': 'VI'},\n",
    "    {'student_id': 4, 'name': 'Karthi',  'class': 'VI'},\n",
    "    {'student_id': 5, 'name': 'Dinesh',  'class': 'VII'},\n",
    "]\n",
    "\n",
    "all_values = [list(student.values()) for student in students]\n",
    "\n",
    "id_and_name = [[student['student_id'], student['name']] for student in students]\n",
    "\n",
    "name_and_class = [[student['name'], student['class']] for student in students]\n",
    "\n",
    "print(all_values)\n",
    "print(id_and_name)\n",
    "print(name_and_class)\n",
    "            \n"
   ]
  },
  {
   "cell_type": "code",
   "execution_count": 18,
   "metadata": {},
   "outputs": [
    {
     "name": "stdout",
     "output_type": "stream",
     "text": [
      "{1: ['Basakr', 'V'], 2: ['Suresh', 'V'], 3: ['Siva', 'VI'], 4: ['Karthi', 'VI'], 5: ['Dinesh', 'VII']}\n"
     ]
    }
   ],
   "source": [
    "# 17. Write a Python program to convert a given list of lists into a dictionary.\n",
    "#     Data:\n",
    "#         students = [[1, 'Basakr', 'V'], [2, 'Suresh', 'V'], [3, 'Siva', 'VI'], [4, 'Karthi', 'VI'], [5, 'Dinesh', 'VII']]\n",
    "#     Expected Output:\n",
    "#         {1: ['Basakr', 'V'], 2: ['Suresh', 'V'], 3: ['Siva', 'VI'], 4: ['Karthi', 'VI'], 5: ['Dinesh', 'VII']}\n",
    "\n",
    "students = [\n",
    "    [1, 'Basakr', 'V'],\n",
    "    [2, 'Suresh', 'V'],\n",
    "    [3, 'Siva', 'VI'],\n",
    "    [4, 'Karthi', 'VI'],\n",
    "    [5, 'Dinesh', 'VII']\n",
    "]\n",
    "\n",
    "student_dict = {}\n",
    "for record in students:\n",
    "    student_id = record[0]      \n",
    "    details = record[1:]        \n",
    "    student_dict[student_id] = details\n",
    "\n",
    "print(student_dict)\n",
    "\n",
    "        \n",
    "        \n",
    "        "
   ]
  },
  {
   "cell_type": "code",
   "execution_count": 19,
   "metadata": {},
   "outputs": [
    {
     "name": "stdout",
     "output_type": "stream",
     "text": [
      "Total length of all values of the said dictionary: 19\n"
     ]
    }
   ],
   "source": [
    "# 18. Write a Python program to print the total length of all values of a given dictionary.\n",
    "#     Data:\n",
    "#         name = {'#FF0000':'Boss', '#800000':'Siva', '#FFFF00':'Kumar', '#808000':'Suresh'}\n",
    "#     Expected Output:\n",
    "#         Total length of all values of the said dictionary: 19\n",
    "\n",
    "name = {\n",
    "    '#FF0000': 'Boss',\n",
    "    '#800000': 'Siva',\n",
    "    '#FFFF00': 'Kumar',\n",
    "    '#808000': 'Suresh'\n",
    "}\n",
    "\n",
    "total_length = sum(len(v) for v in name.values())\n",
    "\n",
    "print(\"Total length of all values of the said dictionary:\", total_length)\n",
    "        \n",
    "        \n",
    "        \n",
    "        "
   ]
  },
  {
   "cell_type": "code",
   "execution_count": 20,
   "metadata": {},
   "outputs": [
    {
     "name": "stdout",
     "output_type": "stream",
     "text": [
      "Check if a specific Key and a value exist in the said dictionary:\n",
      "True\n",
      "False\n",
      "True\n",
      "False\n",
      "False\n",
      "False\n"
     ]
    }
   ],
   "source": [
    "# 19. Write a Python program to check whether a specified Key and a value exists in a dictionary. Return True if present, false if not.\n",
    "#     Data:\n",
    "#          students = [\n",
    "#         {'student_id': 1, 'name': 'Basakr', 'class': 'V'}, \n",
    "#         {'student_id': 2, 'name': 'Suresh', 'class': 'V'},\n",
    "#         {'student_id': 3, 'name': 'Siva', 'class': 'VI'}, \n",
    "#         {'student_id': 4, 'name': 'Karthi', 'class': 'VI'}, \n",
    "#         {'student_id': 5, 'name': 'Dinesh', 'class': 'VII'}\n",
    "#         ]\n",
    "#     Expected Output:\n",
    "#             Check if a specific Key and a value exist in the said dictionary:\n",
    "#                 True\n",
    "#                 False\n",
    "#                 True\n",
    "#                 False\n",
    "#                 False\n",
    "#                 False\n",
    "                \n",
    "\n",
    "students = [\n",
    "    {'student_id': 1, 'name': 'Basakr', 'class': 'V'},\n",
    "    {'student_id': 2, 'name': 'Suresh', 'class': 'V'},\n",
    "    {'student_id': 3, 'name': 'Siva',   'class': 'VI'},\n",
    "    {'student_id': 4, 'name': 'Karthi', 'class': 'VI'},\n",
    "    {'student_id': 5, 'name': 'Dinesh', 'class': 'VII'}\n",
    "]\n",
    "\n",
    "def check_key_value(dicts, key, value):\n",
    "    \"\"\"\n",
    "    Return True if there is at least one dictionary in `dicts`\n",
    "    that has `key` and its associated value equals `value`.\n",
    "    \"\"\"\n",
    "    return any(d.get(key) == value for d in dicts)\n",
    "\n",
    "tests = [\n",
    "    ('student_id', 1),\n",
    "    ('student_id', 6),\n",
    "    ('name',       'Basakr'),\n",
    "    ('name',       'Ravi'),\n",
    "    ('class',      'X'),\n",
    "    ('cls',        'VI')   \n",
    "]\n",
    "\n",
    "print(\"Check if a specific Key and a value exist in the said dictionary:\")\n",
    "for k, v in tests:\n",
    "    print(check_key_value(students, k, v))\n",
    "                \n",
    "        "
   ]
  },
  {
   "cell_type": "code",
   "execution_count": 21,
   "metadata": {},
   "outputs": [
    {
     "name": "stdout",
     "output_type": "stream",
     "text": [
      "Check all are 12 in the dictionary.\n",
      "False\n",
      "Check all are 45 in the dictionary.\n",
      "True\n"
     ]
    }
   ],
   "source": [
    "# 20. Write a Python program to check all values are same in a dictionary.\n",
    "#     Data:\n",
    "#         {'dinesh': 45, 'boss': 45, 'siva': 45, 'suresh': 45}\n",
    "#     Expected Output:\n",
    "#         Check all are  12 in the dictionary.\n",
    "#         False\n",
    "#         Check all are  45 in the dictionary.\n",
    "#         True\n",
    "\n",
    "data = {'dinesh': 45, 'boss': 45, 'siva': 45, 'suresh': 45}\n",
    "\n",
    "def check_all_equal_to(d, test_value):\n",
    "    return all(v == test_value for v in d.values())\n",
    "\n",
    "print(\"Check all are 12 in the dictionary.\")\n",
    "print(check_all_equal_to(data, 12))   # False\n",
    "\n",
    "print(\"Check all are 45 in the dictionary.\")\n",
    "print(check_all_equal_to(data, 45))   # True\n",
    "        \n",
    "        \n",
    "        "
   ]
  }
 ],
 "metadata": {
  "kernelspec": {
   "display_name": "Python 3 (ipykernel)",
   "language": "python",
   "name": "python3"
  },
  "language_info": {
   "codemirror_mode": {
    "name": "ipython",
    "version": 3
   },
   "file_extension": ".py",
   "mimetype": "text/x-python",
   "name": "python",
   "nbconvert_exporter": "python",
   "pygments_lexer": "ipython3",
   "version": "3.12.7"
  }
 },
 "nbformat": 4,
 "nbformat_minor": 4
}
