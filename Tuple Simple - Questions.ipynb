{
 "cells": [
  {
   "cell_type": "markdown",
   "metadata": {},
   "source": [
    "# Tuples Simple Questions "
   ]
  },
  {
   "cell_type": "code",
   "execution_count": 1,
   "metadata": {},
   "outputs": [
    {
     "name": "stdout",
     "output_type": "stream",
     "text": [
      "x - [1, 2]\n",
      "<class 'list'>\n",
      "y - (1, 2)\n",
      "<class 'tuple'>\n"
     ]
    }
   ],
   "source": [
    "# 1. Write a Python program to print convert a list into a tuple.\n",
    "#     Data:\n",
    "#         x = [1,2]\n",
    "#     Expected Output:\n",
    "#         x - [1, 2]\n",
    "#         <class 'list'>\n",
    "#         y - (1, 2)\n",
    "#         <class 'tuple'>        \n",
    "        \n",
    "\n",
    "x = [1, 2]\n",
    "\n",
    "print(\"x -\", x)\n",
    "print(type(x))\n",
    "y = tuple(x)\n",
    "print(\"y -\", y)\n",
    "print(type(y))\n",
    "        "
   ]
  },
  {
   "cell_type": "code",
   "execution_count": 2,
   "metadata": {},
   "outputs": [
    {
     "name": "stdout",
     "output_type": "stream",
     "text": [
      "('tuples', 3.2, 1)\n"
     ]
    }
   ],
   "source": [
    "# 2. Write a Python program to create a tuple with different data types.\n",
    "#     Data:\n",
    "#         x = (\"tuples\",3.2, 1)\n",
    "#     Expected Output:\n",
    "#         ('tuples', 3.2, 1)\n",
    "        \n",
    "x = (\"tuples\", 3.2, 1)\n",
    "print(x)     \n",
    "        \n",
    "        "
   ]
  },
  {
   "cell_type": "code",
   "execution_count": 3,
   "metadata": {},
   "outputs": [
    {
     "name": "stdout",
     "output_type": "stream",
     "text": [
      "<class 'tuple'>\n",
      "(5, 10, 15, 20, 25)\n",
      "5\n",
      "10\n",
      "15\n",
      "20\n",
      "25\n"
     ]
    }
   ],
   "source": [
    "# 3. Write a Python program to create a tuple with numbers and print the items one by one.\n",
    "#     Data:\n",
    "#         x = 5, 10, 15, 20, 25\n",
    "#     Expected Output:\n",
    "#         <class 'tuple'> \n",
    "#         (5, 10, 15, 20, 25)\n",
    "#         5\n",
    "#         10\n",
    "#         15\n",
    "#         20\n",
    "#         25\n",
    "\n",
    "x = (5, 10, 15, 20, 25)\n",
    "print(type(x))\n",
    "print(x)\n",
    "\n",
    "for item in x:\n",
    "    print(item)\n",
    "        \n",
    "        "
   ]
  },
  {
   "cell_type": "code",
   "execution_count": 4,
   "metadata": {},
   "outputs": [
    {
     "name": "stdout",
     "output_type": "stream",
     "text": [
      "volatality\n"
     ]
    }
   ],
   "source": [
    "# 4. Write a Python program to convert a tuple of characters into a string.\n",
    "#     Data:\n",
    "#         x = ('v', 'o', 'l', 'a', 't', 'a', 'l', 'i', 't', 'y')\n",
    "#     Expected Output:\n",
    "#         volatility\n",
    "        \n",
    "        \n",
    "x = ('v', 'o', 'l', 'a', 't', 'a', 'l', 'i', 't', 'y')\n",
    "result = ''.join(x)\n",
    "print(result)     \n",
    "        "
   ]
  },
  {
   "cell_type": "code",
   "execution_count": 5,
   "metadata": {},
   "outputs": [
    {
     "name": "stdout",
     "output_type": "stream",
     "text": [
      "(1, 2, 3)\n",
      "[1, 2, 3]\n"
     ]
    }
   ],
   "source": [
    "# 5. Write a Python program to convert a tuple into a list.\n",
    "#     Data:\n",
    "#         x=(1,2,3)\n",
    "#     Expected Output:\n",
    "#         (1, 2, 3)\n",
    "#         [1, 2, 3]\n",
    "        \n",
    "\n",
    "x = (1, 2, 3)\n",
    "y = list(x)\n",
    "print(x)\n",
    "print(y)\n",
    "        \n",
    "        "
   ]
  },
  {
   "cell_type": "code",
   "execution_count": 7,
   "metadata": {},
   "outputs": [
    {
     "name": "stdout",
     "output_type": "stream",
     "text": [
      "('a', 'b', 'd')\n"
     ]
    }
   ],
   "source": [
    "# 6. Write a Python program to remove an element from a tuple.\n",
    "#     Data:\n",
    "#         x = (\"a\",\"b\",\"c\",\"d\")\n",
    "#     Expected Output:\n",
    "#         ('a', 'b', 'd')\n",
    "\n",
    "x = (\"a\", \"b\", \"c\", \"d\")\n",
    "y = list(x)\n",
    "y.remove(\"c\")\n",
    "x = tuple(y)\n",
    "\n",
    "print(x)\n",
    "        \n",
    "        \n",
    "        \n",
    "        "
   ]
  },
  {
   "cell_type": "code",
   "execution_count": 8,
   "metadata": {},
   "outputs": [
    {
     "name": "stdout",
     "output_type": "stream",
     "text": [
      "('p', 'o', 's', 'i', 't', 'i', 'o', 'n', 's')\n",
      "9\n"
     ]
    }
   ],
   "source": [
    "# 7. Write a Python program to find the length of a tuple.\n",
    "#     Data:\n",
    "#         x = (\"positions\")\n",
    "#     Expected Output:\n",
    "#         ('p', 'o', 's', 'i', 't', 'i', 'o', 'n', 's')\n",
    "#         9\n",
    "\n",
    "x = \"positions\" \n",
    "y= tuple(x)\n",
    "print(y)\n",
    "\n",
    "print(len(y))\n",
    "\n",
    "        "
   ]
  },
  {
   "cell_type": "code",
   "execution_count": 9,
   "metadata": {},
   "outputs": [
    {
     "name": "stdout",
     "output_type": "stream",
     "text": [
      "{'w': 2, 'r': 3}\n"
     ]
    }
   ],
   "source": [
    "# 8. Write a Python program to convert a tuple into a dictionary.\n",
    "#     Data:\n",
    "#         x = ((2, \"w\"),(3, \"r\"))\n",
    "#     Expected Output:\n",
    "#         {'w': 2, 'r': 3}\n",
    "        \n",
    "\n",
    "x = ((2, \"w\"), (3, \"r\"))\n",
    "result = {value: key for key, value in x}\n",
    "\n",
    "print(result)\n",
    "        \n",
    "        "
   ]
  },
  {
   "cell_type": "code",
   "execution_count": 10,
   "metadata": {},
   "outputs": [
    {
     "name": "stdout",
     "output_type": "stream",
     "text": [
      "('r', 'a', 'k', 's', 'a', 'B')\n",
      "(20, 15, 10, 5)\n"
     ]
    }
   ],
   "source": [
    "# 9. Write a Python program to reverse the tuple elements.\n",
    "#     Data:\n",
    "#         x = (\"Baskar\")\n",
    "#         x = (5, 10, 15, 20)\n",
    "#     Expected Output:\n",
    "#         ('r', 'a', 'k', 's', 'a', 'B')\n",
    "#         (20, 15, 10, 5)\n",
    "        \n",
    "x = \"Baskar\"\n",
    "reversed_tuple = tuple(x[::-1])\n",
    "print(reversed_tuple) \n",
    "\n",
    "x = (5, 10, 15, 20)\n",
    "reversed_tuple = x[::-1]\n",
    "print(reversed_tuple)     \n",
    "        \n",
    "        "
   ]
  },
  {
   "cell_type": "code",
   "execution_count": 11,
   "metadata": {},
   "outputs": [
    {
     "name": "stdout",
     "output_type": "stream",
     "text": [
      "(4, 8, 3)\n",
      "15\n"
     ]
    }
   ],
   "source": [
    "# 10. Write a Python program to unpack a tuple in several variables.  \n",
    "#     Data:\n",
    "#         x = 4, 8, 3\n",
    "#     Expected Output:\n",
    "#         (4, 8, 3)\n",
    "#         15\n",
    "        \n",
    "x = (4, 8, 3)\n",
    "a, b, c = x\n",
    "print(x)\n",
    "print(a + b + c)  \n",
    "        \n",
    "        "
   ]
  },
  {
   "cell_type": "code",
   "execution_count": 14,
   "metadata": {},
   "outputs": [
    {
     "name": "stdout",
     "output_type": "stream",
     "text": [
      "('Boss', [8, 4, 6], (1, 2, 3))\n"
     ]
    }
   ],
   "source": [
    "# 11. Write a Python program to create a nested tuple.\n",
    "#     Data:\n",
    "#         x = (\"Boss\", [8, 4, 6], (1, 2, 3)) \n",
    "#     Expected Output:\n",
    "#         ('Boss', [8, 4, 6], (1, 2, 3))\n",
    "        \n",
    "\n",
    "x = (\"Boss\", [8, 4, 6], (1, 2, 3))\n",
    "print(x)  \n",
    "        \n",
    "        "
   ]
  },
  {
   "cell_type": "code",
   "execution_count": 16,
   "metadata": {},
   "outputs": [
    {
     "name": "stdout",
     "output_type": "stream",
     "text": [
      "<class 'str'>\n",
      "<class 'tuple'>\n"
     ]
    }
   ],
   "source": [
    "# 12. Write a Python program to convert a string into a tuple.\n",
    "#     Data:\n",
    "#         x = (\"hello\")\n",
    "#     Expected Output:\n",
    "#         <class 'str'>\n",
    "#         <class 'tuple'>\n",
    "        \n",
    "x = \"hello\"\n",
    "print(type(x))    \n",
    "x = tuple(x)\n",
    "print(type(x))   \n",
    "        \n",
    "        "
   ]
  },
  {
   "cell_type": "code",
   "execution_count": 17,
   "metadata": {},
   "outputs": [
    {
     "name": "stdout",
     "output_type": "stream",
     "text": [
      "x[0] is : B\n",
      "x[5] is : r\n"
     ]
    }
   ],
   "source": [
    "# 13. Write a Python program to access tuple elements using index.\n",
    "#     Data:\n",
    "#         x = ('B','a','s','k','a','r')\n",
    "#     Expected Output:\n",
    "#         x[0] is : B\n",
    "#         x[5] is : r\n",
    "\n",
    "x = ('B', 'a', 's', 'k', 'a', 'r')\n",
    "\n",
    "print(\"x[0] is :\", x[0])\n",
    "print(\"x[5] is :\", x[5])\n",
    "        \n",
    "        \n",
    "        \n",
    "        "
   ]
  },
  {
   "cell_type": "code",
   "execution_count": 18,
   "metadata": {},
   "outputs": [
    {
     "name": "stdout",
     "output_type": "stream",
     "text": [
      "x[0][3] is : s\n",
      "x[1][1] is : 4\n"
     ]
    }
   ],
   "source": [
    "# 14. Write a Python program to access nested tuple elements using index. \n",
    "#     Data:\n",
    "#         x = (\"Boss\", [8, 4, 6], (1, 2, 3)) \n",
    "#     Expected Output:\n",
    "#         x[0][3] is : s\n",
    "#         x[1][1] is : 4\n",
    "        \n",
    "\n",
    "x = (\"Boss\", [8, 4, 6], (1, 2, 3))\n",
    "\n",
    "print(\"x[0][3] is :\", x[0][3])\n",
    "print(\"x[1][1] is :\", x[1][1])\n",
    "        \n",
    "        "
   ]
  },
  {
   "cell_type": "code",
   "execution_count": 19,
   "metadata": {},
   "outputs": [
    {
     "name": "stdout",
     "output_type": "stream",
     "text": [
      "x[-1] is : r\n",
      "x[-6] is : B\n"
     ]
    }
   ],
   "source": [
    "# 15. Write a Python program to access tuple elements using negative index.\n",
    "#     Data:\n",
    "#         x = ('B','a','s','k','a','r')\n",
    "#     Expected Output:\n",
    "#         x[-1] is : r\n",
    "#         x[-6] is : B\n",
    "        \n",
    "x = ('B', 'a', 's', 'k', 'a', 'r')\n",
    "\n",
    "print(\"x[-1] is :\", x[-1])\n",
    "print(\"x[-6] is :\", x[-6])    \n",
    "        \n",
    "        "
   ]
  },
  {
   "cell_type": "code",
   "execution_count": 21,
   "metadata": {},
   "outputs": [
    {
     "name": "stdout",
     "output_type": "stream",
     "text": [
      "z = x + y : (1, 12, 123, 4, 9)\n",
      "z * 3 : (1, 12, 123, 4, 9, 1, 12, 123, 4, 9, 1, 12, 123, 4, 9)\n"
     ]
    }
   ],
   "source": [
    "# 16. Write a Python program to use + and * operators in a tuple and print the results in tuple.\n",
    "#     Data:\n",
    "#         x : (1, 12, 123)\n",
    "#         y : (4, 9)    \n",
    "#     Expected Output:\n",
    "#         z = x + y : (1, 12, 123, 4, 9)\n",
    "#         z * 3 : (1, 12, 123, 4, 9, 1, 12, 123, 4, 9, 1, 12, 123, 4, 9)\n",
    "\n",
    "\n",
    "x = (1, 12, 123)\n",
    "y = (4, 9)\n",
    "\n",
    "z = x + y\n",
    "print(\"z = x + y :\", z)\n",
    "print(\"z * 3 :\", z * 3)\n",
    "        \n",
    "        \n",
    "        "
   ]
  },
  {
   "cell_type": "code",
   "execution_count": 22,
   "metadata": {},
   "outputs": [
    {
     "name": "stdout",
     "output_type": "stream",
     "text": [
      "Hello boss\n",
      "Hello sai\n"
     ]
    }
   ],
   "source": [
    "# 17. Write a Python program to print each elements of a tuple using for loop.\n",
    "#     Data:\n",
    "#         Tuple x = ('boss','sai')\n",
    "#     Expected Output:\n",
    "#         Hello boss\n",
    "#         Hello bala\n",
    "        \n",
    "        \n",
    "x = ('boss', 'sai')\n",
    "\n",
    "for name in x:\n",
    "    print(\"Hello\", name)    \n",
    "        "
   ]
  },
  {
   "cell_type": "code",
   "execution_count": 25,
   "metadata": {},
   "outputs": [
    {
     "name": "stdout",
     "output_type": "stream",
     "text": [
      "Count of p is : 2\n",
      "Index of l is : 3\n"
     ]
    }
   ],
   "source": [
    "# 18. Write a Python program to print the count of 'p' and the index of 'l' from the given tuple using tuple methods.\n",
    "#     Data: \n",
    "#         x = ('a', 'p', 'p', 'l', 'e')\n",
    "#     Expected Output:\n",
    "#         Count of p is : 2\n",
    "#         Index of l is : 3\n",
    "        \n",
    "x = ('a', 'p', 'p', 'l', 'e')\n",
    "\n",
    "c= x.count('p')\n",
    "i= x.index('l')\n",
    "\n",
    "print(\"Count of p is :\", c)\n",
    "print(\"Index of l is :\", i)   "
   ]
  },
  {
   "cell_type": "code",
   "execution_count": 26,
   "metadata": {},
   "outputs": [
    {
     "name": "stdout",
     "output_type": "stream",
     "text": [
      "(1, [9, 8, 7], 'boss')\n",
      "(1, [9, 8, 77], 'boss')\n"
     ]
    }
   ],
   "source": [
    "# 19. Write a Python program to update an element of a given tuple from 7 to 77.\n",
    "#     Data:\n",
    "#         x = (1, [9, 8, 7], \"boss\")\n",
    "#     Expected Output:\n",
    "#         (1, [9, 8, 7], 'boss')\n",
    "#         (1, [9, 8, 77], 'boss')\n",
    "        \n",
    "\n",
    "x = (1, [9, 8, 7], \"boss\")\n",
    "print(x)\n",
    "\n",
    "for id, val in enumerate(x[1]):\n",
    "    if val == 7:\n",
    "        x[1][id] = 77\n",
    "\n",
    "print(x)  \n",
    "        \n",
    "        "
   ]
  },
  {
   "cell_type": "code",
   "execution_count": 27,
   "metadata": {},
   "outputs": [
    {
     "name": "stdout",
     "output_type": "stream",
     "text": [
      "(11, 22, 33, 44, 55, 66, 77, 88, 99)\n",
      "(33, 44, 55)\n",
      "(11, 22, 33, 44)\n",
      "(55, 66, 77, 88, 99)\n",
      "(55, 66, 77, 88)\n",
      "(11, 22, 33, 44, 55, 66, 77, 88, 99)\n"
     ]
    }
   ],
   "source": [
    "# 20. Write a Python program to slice a tuple.\n",
    "#     Data: \n",
    "#         x = (11, 22, 33, 44, 55, 66, 77, 88, 99)\n",
    "#     Expected Output:\n",
    "#         (11, 22, 33, 44, 55, 66, 77, 88, 99)\n",
    "#         (33, 44, 55)\n",
    "#         (11, 22, 33, 44)\n",
    "#         (55, 66, 77, 88, 99)\n",
    "#         (55, 66, 77, 88)\n",
    "#         (11, 22, 33, 44, 55, 66, 77, 88, 99)\n",
    "        \n",
    "        \n",
    "x = (11, 22, 33, 44, 55, 66, 77, 88, 99)\n",
    "\n",
    "# Slicing and printing as per the expected output\n",
    "print(x)            \n",
    "print(x[2:5])       \n",
    "print(x[:4])        \n",
    "print(x[4:])        \n",
    "print(x[4:8])       \n",
    "print(x[:])     \n",
    "        "
   ]
  }
 ],
 "metadata": {
  "kernelspec": {
   "display_name": "Python 3 (ipykernel)",
   "language": "python",
   "name": "python3"
  },
  "language_info": {
   "codemirror_mode": {
    "name": "ipython",
    "version": 3
   },
   "file_extension": ".py",
   "mimetype": "text/x-python",
   "name": "python",
   "nbconvert_exporter": "python",
   "pygments_lexer": "ipython3",
   "version": "3.12.7"
  }
 },
 "nbformat": 4,
 "nbformat_minor": 4
}
